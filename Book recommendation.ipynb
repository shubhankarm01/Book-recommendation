{
 "cells": [
  {
   "cell_type": "code",
   "execution_count": 1,
   "metadata": {
    "scrolled": true
   },
   "outputs": [],
   "source": [
    "import mysql.connector\n",
    "import pandas as pd"
   ]
  },
  {
   "cell_type": "code",
   "execution_count": 2,
   "metadata": {
    "scrolled": true
   },
   "outputs": [],
   "source": [
    "class mysqlconnector:\n",
    "    \n",
    "    def __init__(self, database = 'book'):\n",
    "        try:\n",
    "            connection = mysql.connector.connect(host = 'localhost',\n",
    "                                                user = 'root',\n",
    "                                                password = '',\n",
    "                                                use_pure = True,\n",
    "                                                database = database\n",
    "                                                )\n",
    "            if connection.is_connected:\n",
    "                db_info = connection.get_server_info()\n",
    "                print('connected to MYSQL server version', db_info)\n",
    "                print('You are connected to the database:', database)\n",
    "                self.connection = connection\n",
    "        except Exception as e:\n",
    "            print('Error while connecting to MYSQL', e)\n",
    "            \n",
    "    def execute(self, query, header = False):\n",
    "        cursor = self.connection.cursor(buffered = True)\n",
    "        cursor.execute(query)\n",
    "        \n",
    "        try:\n",
    "            record = cursor.fetchall()\n",
    "            \n",
    "            if header:\n",
    "                header = [i[0] for i in cursor.description]\n",
    "                return {'header': header, 'record': record}\n",
    "            else:\n",
    "                return record\n",
    "        except:\n",
    "            pass\n",
    "        \n",
    "        \n",
    "    def to_db(self, query):\n",
    "        result = self.execute(query, header = True)\n",
    "        df = pd.DataFrame(result['record'])\n",
    "        df.columns = result['header']\n",
    "        return df"
   ]
  },
  {
   "cell_type": "code",
   "execution_count": 3,
   "metadata": {
    "scrolled": true
   },
   "outputs": [
    {
     "name": "stdout",
     "output_type": "stream",
     "text": [
      "connected to MYSQL server version 5.5.5-10.4.24-MariaDB\n",
      "You are connected to the database: book\n"
     ]
    }
   ],
   "source": [
    "db = mysqlconnector('book')"
   ]
  },
  {
   "cell_type": "code",
   "execution_count": 4,
   "metadata": {
    "scrolled": true
   },
   "outputs": [
    {
     "data": {
      "text/html": [
       "<div>\n",
       "<style scoped>\n",
       "    .dataframe tbody tr th:only-of-type {\n",
       "        vertical-align: middle;\n",
       "    }\n",
       "\n",
       "    .dataframe tbody tr th {\n",
       "        vertical-align: top;\n",
       "    }\n",
       "\n",
       "    .dataframe thead th {\n",
       "        text-align: right;\n",
       "    }\n",
       "</style>\n",
       "<table border=\"1\" class=\"dataframe\">\n",
       "  <thead>\n",
       "    <tr style=\"text-align: right;\">\n",
       "      <th></th>\n",
       "      <th>user_id</th>\n",
       "      <th>location</th>\n",
       "      <th>age</th>\n",
       "    </tr>\n",
       "  </thead>\n",
       "  <tbody>\n",
       "    <tr>\n",
       "      <th>158584</th>\n",
       "      <td>158585</td>\n",
       "      <td>plano, texas, usa</td>\n",
       "      <td>15.0</td>\n",
       "    </tr>\n",
       "    <tr>\n",
       "      <th>171194</th>\n",
       "      <td>171195</td>\n",
       "      <td>wilkes-barre, pennsylvania, usa</td>\n",
       "      <td>NaN</td>\n",
       "    </tr>\n",
       "    <tr>\n",
       "      <th>154916</th>\n",
       "      <td>154917</td>\n",
       "      <td>stow, ohio, usa</td>\n",
       "      <td>NaN</td>\n",
       "    </tr>\n",
       "    <tr>\n",
       "      <th>183373</th>\n",
       "      <td>183374</td>\n",
       "      <td>garden grove, california, usa</td>\n",
       "      <td>21.0</td>\n",
       "    </tr>\n",
       "    <tr>\n",
       "      <th>6944</th>\n",
       "      <td>6945</td>\n",
       "      <td>austin, texas, usa</td>\n",
       "      <td>26.0</td>\n",
       "    </tr>\n",
       "  </tbody>\n",
       "</table>\n",
       "</div>"
      ],
      "text/plain": [
       "        user_id                         location   age\n",
       "158584   158585                plano, texas, usa  15.0\n",
       "171194   171195  wilkes-barre, pennsylvania, usa   NaN\n",
       "154916   154917                  stow, ohio, usa   NaN\n",
       "183373   183374    garden grove, california, usa  21.0\n",
       "6944       6945               austin, texas, usa  26.0"
      ]
     },
     "execution_count": 4,
     "metadata": {},
     "output_type": "execute_result"
    }
   ],
   "source": [
    "query = \"\"\"\n",
    "        SELECT * FROM users\n",
    "        \"\"\"\n",
    "\n",
    "df1 = db.to_db(query)\n",
    "df1.sample(5)"
   ]
  },
  {
   "cell_type": "code",
   "execution_count": 5,
   "metadata": {
    "scrolled": true
   },
   "outputs": [
    {
     "data": {
      "text/html": [
       "<div>\n",
       "<style scoped>\n",
       "    .dataframe tbody tr th:only-of-type {\n",
       "        vertical-align: middle;\n",
       "    }\n",
       "\n",
       "    .dataframe tbody tr th {\n",
       "        vertical-align: top;\n",
       "    }\n",
       "\n",
       "    .dataframe thead th {\n",
       "        text-align: right;\n",
       "    }\n",
       "</style>\n",
       "<table border=\"1\" class=\"dataframe\">\n",
       "  <thead>\n",
       "    <tr style=\"text-align: right;\">\n",
       "      <th></th>\n",
       "      <th>book_id</th>\n",
       "      <th>title</th>\n",
       "      <th>author</th>\n",
       "      <th>YOP</th>\n",
       "      <th>publisher</th>\n",
       "    </tr>\n",
       "  </thead>\n",
       "  <tbody>\n",
       "    <tr>\n",
       "      <th>152828</th>\n",
       "      <td>0375756728</td>\n",
       "      <td>Little Women (Modern Library Classics)</td>\n",
       "      <td>Louisa May Alcott</td>\n",
       "      <td>2001</td>\n",
       "      <td>Modern Library</td>\n",
       "    </tr>\n",
       "    <tr>\n",
       "      <th>100856</th>\n",
       "      <td>047119297X</td>\n",
       "      <td>The Magical Maze : Seeing the World Through Ma...</td>\n",
       "      <td>Ian  Stewart</td>\n",
       "      <td>1998</td>\n",
       "      <td>Wiley</td>\n",
       "    </tr>\n",
       "    <tr>\n",
       "      <th>247132</th>\n",
       "      <td>044667883X</td>\n",
       "      <td>Last Man Standing</td>\n",
       "      <td>David Baldacci</td>\n",
       "      <td>2001</td>\n",
       "      <td>Warner Books</td>\n",
       "    </tr>\n",
       "    <tr>\n",
       "      <th>6331</th>\n",
       "      <td>0688160867</td>\n",
       "      <td>Sideways Stories from Wayside School</td>\n",
       "      <td>Louis Sachar</td>\n",
       "      <td>1998</td>\n",
       "      <td>HarperCollins</td>\n",
       "    </tr>\n",
       "    <tr>\n",
       "      <th>177257</th>\n",
       "      <td>3492265030</td>\n",
       "      <td>Hexensturm.</td>\n",
       "      <td>Sean Stewart</td>\n",
       "      <td>2003</td>\n",
       "      <td>Piper</td>\n",
       "    </tr>\n",
       "  </tbody>\n",
       "</table>\n",
       "</div>"
      ],
      "text/plain": [
       "           book_id                                              title  \\\n",
       "152828  0375756728             Little Women (Modern Library Classics)   \n",
       "100856  047119297X  The Magical Maze : Seeing the World Through Ma...   \n",
       "247132  044667883X                                  Last Man Standing   \n",
       "6331    0688160867               Sideways Stories from Wayside School   \n",
       "177257  3492265030                                        Hexensturm.   \n",
       "\n",
       "                   author   YOP       publisher  \n",
       "152828  Louisa May Alcott  2001  Modern Library  \n",
       "100856       Ian  Stewart  1998           Wiley  \n",
       "247132     David Baldacci  2001    Warner Books  \n",
       "6331         Louis Sachar  1998   HarperCollins  \n",
       "177257       Sean Stewart  2003           Piper  "
      ]
     },
     "execution_count": 5,
     "metadata": {},
     "output_type": "execute_result"
    }
   ],
   "source": [
    "query = \"\"\"\n",
    "        SELECT * FROM books\n",
    "        \"\"\"\n",
    "\n",
    "df2 = db.to_db(query)\n",
    "df2.sample(5)"
   ]
  },
  {
   "cell_type": "code",
   "execution_count": 6,
   "metadata": {
    "scrolled": true
   },
   "outputs": [
    {
     "data": {
      "text/html": [
       "<div>\n",
       "<style scoped>\n",
       "    .dataframe tbody tr th:only-of-type {\n",
       "        vertical-align: middle;\n",
       "    }\n",
       "\n",
       "    .dataframe tbody tr th {\n",
       "        vertical-align: top;\n",
       "    }\n",
       "\n",
       "    .dataframe thead th {\n",
       "        text-align: right;\n",
       "    }\n",
       "</style>\n",
       "<table border=\"1\" class=\"dataframe\">\n",
       "  <thead>\n",
       "    <tr style=\"text-align: right;\">\n",
       "      <th></th>\n",
       "      <th>user_id</th>\n",
       "      <th>book_id</th>\n",
       "      <th>book_rating</th>\n",
       "    </tr>\n",
       "  </thead>\n",
       "  <tbody>\n",
       "    <tr>\n",
       "      <th>535129</th>\n",
       "      <td>129074</td>\n",
       "      <td>0525432922</td>\n",
       "      <td>0</td>\n",
       "    </tr>\n",
       "    <tr>\n",
       "      <th>470520</th>\n",
       "      <td>112559</td>\n",
       "      <td>0020088248</td>\n",
       "      <td>8</td>\n",
       "    </tr>\n",
       "    <tr>\n",
       "      <th>720996</th>\n",
       "      <td>174304</td>\n",
       "      <td>0934998191</td>\n",
       "      <td>0</td>\n",
       "    </tr>\n",
       "    <tr>\n",
       "      <th>699637</th>\n",
       "      <td>170513</td>\n",
       "      <td>0451526333</td>\n",
       "      <td>0</td>\n",
       "    </tr>\n",
       "    <tr>\n",
       "      <th>863555</th>\n",
       "      <td>208815</td>\n",
       "      <td>0671795937</td>\n",
       "      <td>0</td>\n",
       "    </tr>\n",
       "  </tbody>\n",
       "</table>\n",
       "</div>"
      ],
      "text/plain": [
       "        user_id     book_id  book_rating\n",
       "535129   129074  0525432922            0\n",
       "470520   112559  0020088248            8\n",
       "720996   174304  0934998191            0\n",
       "699637   170513  0451526333            0\n",
       "863555   208815  0671795937            0"
      ]
     },
     "execution_count": 6,
     "metadata": {},
     "output_type": "execute_result"
    }
   ],
   "source": [
    "query = \"\"\"\n",
    "        SELECT * FROM ratings\n",
    "        \"\"\"\n",
    "\n",
    "df3 = db.to_db(query)\n",
    "df3.sample(5)"
   ]
  },
  {
   "cell_type": "code",
   "execution_count": 7,
   "metadata": {
    "scrolled": true
   },
   "outputs": [
    {
     "name": "stdout",
     "output_type": "stream",
     "text": [
      "(278858, 3) (271379, 5) (1149780, 3)\n"
     ]
    }
   ],
   "source": [
    "print(df1.shape, df2.shape, df3.shape)"
   ]
  },
  {
   "cell_type": "code",
   "execution_count": 8,
   "metadata": {
    "scrolled": true
   },
   "outputs": [
    {
     "data": {
      "text/plain": [
       "book_id      object\n",
       "title        object\n",
       "author       object\n",
       "YOP           int64\n",
       "publisher    object\n",
       "dtype: object"
      ]
     },
     "execution_count": 8,
     "metadata": {},
     "output_type": "execute_result"
    }
   ],
   "source": [
    "df2.dtypes"
   ]
  },
  {
   "cell_type": "markdown",
   "metadata": {},
   "source": [
    "### YOP cleaning"
   ]
  },
  {
   "cell_type": "code",
   "execution_count": 9,
   "metadata": {
    "scrolled": true
   },
   "outputs": [
    {
     "data": {
      "text/plain": [
       "array([   0, 1376, 1378, 1806, 1897, 1900, 1901, 1902, 1904, 1906, 1908,\n",
       "       1909, 1910, 1911, 1914, 1917, 1919, 1920, 1921, 1922, 1923, 1924,\n",
       "       1925, 1926, 1927, 1928, 1929, 1930, 1931, 1932, 1933, 1934, 1935,\n",
       "       1936, 1937, 1938, 1939, 1940, 1941, 1942, 1943, 1944, 1945, 1946,\n",
       "       1947, 1948, 1949, 1950, 1951, 1952, 1953, 1954, 1955, 1956, 1957,\n",
       "       1958, 1959, 1960, 1961, 1962, 1963, 1964, 1965, 1966, 1967, 1968,\n",
       "       1969, 1970, 1971, 1972, 1973, 1974, 1975, 1976, 1977, 1978, 1979,\n",
       "       1980, 1981, 1982, 1983, 1984, 1985, 1986, 1987, 1988, 1989, 1990,\n",
       "       1991, 1992, 1993, 1994, 1995, 1996, 1997, 1998, 1999, 2000, 2001,\n",
       "       2002, 2003, 2004, 2005, 2006, 2008, 2010, 2011, 2012, 2020, 2021,\n",
       "       2024, 2026, 2030, 2037, 2038, 2050], dtype=int64)"
      ]
     },
     "execution_count": 9,
     "metadata": {},
     "output_type": "execute_result"
    }
   ],
   "source": [
    "import numpy as np\n",
    "\n",
    "np.sort(df2['YOP'].unique())"
   ]
  },
  {
   "cell_type": "code",
   "execution_count": 10,
   "metadata": {
    "scrolled": true
   },
   "outputs": [],
   "source": [
    "# To diplay full text in the column of the dataframe\n",
    "pd.set_option('display.max_colwidth', None)"
   ]
  },
  {
   "cell_type": "code",
   "execution_count": 11,
   "metadata": {
    "scrolled": true
   },
   "outputs": [
    {
     "data": {
      "text/html": [
       "<div>\n",
       "<style scoped>\n",
       "    .dataframe tbody tr th:only-of-type {\n",
       "        vertical-align: middle;\n",
       "    }\n",
       "\n",
       "    .dataframe tbody tr th {\n",
       "        vertical-align: top;\n",
       "    }\n",
       "\n",
       "    .dataframe thead th {\n",
       "        text-align: right;\n",
       "    }\n",
       "</style>\n",
       "<table border=\"1\" class=\"dataframe\">\n",
       "  <thead>\n",
       "    <tr style=\"text-align: right;\">\n",
       "      <th></th>\n",
       "      <th>book_id</th>\n",
       "      <th>title</th>\n",
       "      <th>author</th>\n",
       "      <th>YOP</th>\n",
       "      <th>publisher</th>\n",
       "    </tr>\n",
       "  </thead>\n",
       "  <tbody>\n",
       "    <tr>\n",
       "      <th>209550</th>\n",
       "      <td>078946697X</td>\n",
       "      <td>DK Readers: Creating the X-Men, How It All Began (Level 4: Proficient Readers)\"</td>\n",
       "      <td>Michael Teitelbaum</td>\n",
       "      <td>2000</td>\n",
       "      <td>DK Publishing Inc</td>\n",
       "    </tr>\n",
       "  </tbody>\n",
       "</table>\n",
       "</div>"
      ],
      "text/plain": [
       "           book_id  \\\n",
       "209550  078946697X   \n",
       "\n",
       "                                                                                  title  \\\n",
       "209550  DK Readers: Creating the X-Men, How It All Began (Level 4: Proficient Readers)\"   \n",
       "\n",
       "                    author   YOP          publisher  \n",
       "209550  Michael Teitelbaum  2000  DK Publishing Inc  "
      ]
     },
     "execution_count": 11,
     "metadata": {},
     "output_type": "execute_result"
    }
   ],
   "source": [
    "df2[df2['book_id'] == '078946697X']"
   ]
  },
  {
   "cell_type": "code",
   "execution_count": 12,
   "metadata": {
    "scrolled": true
   },
   "outputs": [
    {
     "data": {
      "text/html": [
       "<div>\n",
       "<style scoped>\n",
       "    .dataframe tbody tr th:only-of-type {\n",
       "        vertical-align: middle;\n",
       "    }\n",
       "\n",
       "    .dataframe tbody tr th {\n",
       "        vertical-align: top;\n",
       "    }\n",
       "\n",
       "    .dataframe thead th {\n",
       "        text-align: right;\n",
       "    }\n",
       "</style>\n",
       "<table border=\"1\" class=\"dataframe\">\n",
       "  <thead>\n",
       "    <tr style=\"text-align: right;\">\n",
       "      <th></th>\n",
       "      <th>book_id</th>\n",
       "      <th>title</th>\n",
       "      <th>author</th>\n",
       "      <th>YOP</th>\n",
       "      <th>publisher</th>\n",
       "    </tr>\n",
       "  </thead>\n",
       "  <tbody>\n",
       "    <tr>\n",
       "      <th>220744</th>\n",
       "      <td>2070426769</td>\n",
       "      <td>Peuple du ciel, suivi de 'Les Bergers\"</td>\n",
       "      <td>Jean-Marie Gustave Le ClÃ?Â©zio</td>\n",
       "      <td>2003</td>\n",
       "      <td>Gallimard</td>\n",
       "    </tr>\n",
       "  </tbody>\n",
       "</table>\n",
       "</div>"
      ],
      "text/plain": [
       "           book_id                                   title  \\\n",
       "220744  2070426769  Peuple du ciel, suivi de 'Les Bergers\"   \n",
       "\n",
       "                                 author   YOP  publisher  \n",
       "220744  Jean-Marie Gustave Le ClÃ?Â©zio  2003  Gallimard  "
      ]
     },
     "execution_count": 12,
     "metadata": {},
     "output_type": "execute_result"
    }
   ],
   "source": [
    "df2[df2['book_id'] == '2070426769']"
   ]
  },
  {
   "cell_type": "code",
   "execution_count": 13,
   "metadata": {
    "scrolled": true
   },
   "outputs": [],
   "source": [
    "# Since the dataset was published on 2004 hence all the YOP above 2006(with two years of margin) can be considered as the error\n",
    "\n",
    "import numpy as np\n",
    "\n",
    "df2.loc[(df2['YOP'] > 2006) | (df2['YOP'] == 0), 'YOP'] = np.NaN"
   ]
  },
  {
   "cell_type": "code",
   "execution_count": 14,
   "metadata": {
    "scrolled": true
   },
   "outputs": [
    {
     "data": {
      "text/plain": [
       "False    266737\n",
       "True       4642\n",
       "Name: YOP, dtype: int64"
      ]
     },
     "execution_count": 14,
     "metadata": {},
     "output_type": "execute_result"
    }
   ],
   "source": [
    "df2['YOP'].isna().value_counts()"
   ]
  },
  {
   "cell_type": "markdown",
   "metadata": {},
   "source": [
    "### Publisher cleaning"
   ]
  },
  {
   "cell_type": "code",
   "execution_count": 15,
   "metadata": {
    "scrolled": true
   },
   "outputs": [
    {
     "data": {
      "text/plain": [
       "False    271379\n",
       "Name: publisher, dtype: int64"
      ]
     },
     "execution_count": 15,
     "metadata": {},
     "output_type": "execute_result"
    }
   ],
   "source": [
    "df2['publisher'].isna().value_counts()"
   ]
  },
  {
   "cell_type": "code",
   "execution_count": 16,
   "metadata": {
    "scrolled": true
   },
   "outputs": [
    {
     "data": {
      "text/html": [
       "<div>\n",
       "<style scoped>\n",
       "    .dataframe tbody tr th:only-of-type {\n",
       "        vertical-align: middle;\n",
       "    }\n",
       "\n",
       "    .dataframe tbody tr th {\n",
       "        vertical-align: top;\n",
       "    }\n",
       "\n",
       "    .dataframe thead th {\n",
       "        text-align: right;\n",
       "    }\n",
       "</style>\n",
       "<table border=\"1\" class=\"dataframe\">\n",
       "  <thead>\n",
       "    <tr style=\"text-align: right;\">\n",
       "      <th></th>\n",
       "      <th>book_id</th>\n",
       "      <th>title</th>\n",
       "      <th>author</th>\n",
       "      <th>YOP</th>\n",
       "      <th>publisher</th>\n",
       "    </tr>\n",
       "  </thead>\n",
       "  <tbody>\n",
       "    <tr>\n",
       "      <th>128896</th>\n",
       "      <td>193169656X</td>\n",
       "      <td>Tyrant Moon</td>\n",
       "      <td>Elaine Corvidae</td>\n",
       "      <td>2002.0</td>\n",
       "      <td>N/A</td>\n",
       "    </tr>\n",
       "    <tr>\n",
       "      <th>129043</th>\n",
       "      <td>1931696993</td>\n",
       "      <td>Finders Keepers</td>\n",
       "      <td>Linnea Sinclair</td>\n",
       "      <td>2001.0</td>\n",
       "      <td>N/A</td>\n",
       "    </tr>\n",
       "  </tbody>\n",
       "</table>\n",
       "</div>"
      ],
      "text/plain": [
       "           book_id            title           author     YOP publisher\n",
       "128896  193169656X      Tyrant Moon  Elaine Corvidae  2002.0       N/A\n",
       "129043  1931696993  Finders Keepers  Linnea Sinclair  2001.0       N/A"
      ]
     },
     "execution_count": 16,
     "metadata": {},
     "output_type": "execute_result"
    }
   ],
   "source": [
    "df2[df2['publisher'] == 'N/A']"
   ]
  },
  {
   "cell_type": "code",
   "execution_count": 17,
   "metadata": {
    "scrolled": true
   },
   "outputs": [
    {
     "data": {
      "text/html": [
       "<div>\n",
       "<style scoped>\n",
       "    .dataframe tbody tr th:only-of-type {\n",
       "        vertical-align: middle;\n",
       "    }\n",
       "\n",
       "    .dataframe tbody tr th {\n",
       "        vertical-align: top;\n",
       "    }\n",
       "\n",
       "    .dataframe thead th {\n",
       "        text-align: right;\n",
       "    }\n",
       "</style>\n",
       "<table border=\"1\" class=\"dataframe\">\n",
       "  <thead>\n",
       "    <tr style=\"text-align: right;\">\n",
       "      <th></th>\n",
       "      <th>book_id</th>\n",
       "      <th>title</th>\n",
       "      <th>author</th>\n",
       "      <th>YOP</th>\n",
       "      <th>publisher</th>\n",
       "    </tr>\n",
       "  </thead>\n",
       "  <tbody>\n",
       "    <tr>\n",
       "      <th>128896</th>\n",
       "      <td>193169656X</td>\n",
       "      <td>Tyrant Moon</td>\n",
       "      <td>Elaine Corvidae</td>\n",
       "      <td>2002.0</td>\n",
       "      <td>N/A</td>\n",
       "    </tr>\n",
       "  </tbody>\n",
       "</table>\n",
       "</div>"
      ],
      "text/plain": [
       "           book_id        title           author     YOP publisher\n",
       "128896  193169656X  Tyrant Moon  Elaine Corvidae  2002.0       N/A"
      ]
     },
     "execution_count": 17,
     "metadata": {},
     "output_type": "execute_result"
    }
   ],
   "source": [
    "# Checking clues from title and author for 'N/A' values\n",
    "\n",
    "df2[df2['title'] == 'Tyrant Moon']"
   ]
  },
  {
   "cell_type": "code",
   "execution_count": 18,
   "metadata": {
    "scrolled": true
   },
   "outputs": [
    {
     "data": {
      "text/html": [
       "<div>\n",
       "<style scoped>\n",
       "    .dataframe tbody tr th:only-of-type {\n",
       "        vertical-align: middle;\n",
       "    }\n",
       "\n",
       "    .dataframe tbody tr th {\n",
       "        vertical-align: top;\n",
       "    }\n",
       "\n",
       "    .dataframe thead th {\n",
       "        text-align: right;\n",
       "    }\n",
       "</style>\n",
       "<table border=\"1\" class=\"dataframe\">\n",
       "  <thead>\n",
       "    <tr style=\"text-align: right;\">\n",
       "      <th></th>\n",
       "      <th>book_id</th>\n",
       "      <th>title</th>\n",
       "      <th>author</th>\n",
       "      <th>YOP</th>\n",
       "      <th>publisher</th>\n",
       "    </tr>\n",
       "  </thead>\n",
       "  <tbody>\n",
       "    <tr>\n",
       "      <th>126768</th>\n",
       "      <td>1931696934</td>\n",
       "      <td>Winter's Orphans</td>\n",
       "      <td>Elaine Corvidae</td>\n",
       "      <td>2001.0</td>\n",
       "      <td>Novelbooks</td>\n",
       "    </tr>\n",
       "    <tr>\n",
       "      <th>128896</th>\n",
       "      <td>193169656X</td>\n",
       "      <td>Tyrant Moon</td>\n",
       "      <td>Elaine Corvidae</td>\n",
       "      <td>2002.0</td>\n",
       "      <td>N/A</td>\n",
       "    </tr>\n",
       "    <tr>\n",
       "      <th>129007</th>\n",
       "      <td>0759901880</td>\n",
       "      <td>Wolfkin</td>\n",
       "      <td>Elaine Corvidae</td>\n",
       "      <td>2001.0</td>\n",
       "      <td>Hard Shell Word Factory</td>\n",
       "    </tr>\n",
       "  </tbody>\n",
       "</table>\n",
       "</div>"
      ],
      "text/plain": [
       "           book_id             title           author     YOP  \\\n",
       "126768  1931696934  Winter's Orphans  Elaine Corvidae  2001.0   \n",
       "128896  193169656X       Tyrant Moon  Elaine Corvidae  2002.0   \n",
       "129007  0759901880           Wolfkin  Elaine Corvidae  2001.0   \n",
       "\n",
       "                      publisher  \n",
       "126768               Novelbooks  \n",
       "128896                      N/A  \n",
       "129007  Hard Shell Word Factory  "
      ]
     },
     "execution_count": 18,
     "metadata": {},
     "output_type": "execute_result"
    }
   ],
   "source": [
    "df2[df2['author'] == 'Elaine Corvidae']"
   ]
  },
  {
   "cell_type": "code",
   "execution_count": 19,
   "metadata": {
    "scrolled": true
   },
   "outputs": [
    {
     "data": {
      "text/html": [
       "<div>\n",
       "<style scoped>\n",
       "    .dataframe tbody tr th:only-of-type {\n",
       "        vertical-align: middle;\n",
       "    }\n",
       "\n",
       "    .dataframe tbody tr th {\n",
       "        vertical-align: top;\n",
       "    }\n",
       "\n",
       "    .dataframe thead th {\n",
       "        text-align: right;\n",
       "    }\n",
       "</style>\n",
       "<table border=\"1\" class=\"dataframe\">\n",
       "  <thead>\n",
       "    <tr style=\"text-align: right;\">\n",
       "      <th></th>\n",
       "      <th>book_id</th>\n",
       "      <th>title</th>\n",
       "      <th>author</th>\n",
       "      <th>YOP</th>\n",
       "      <th>publisher</th>\n",
       "    </tr>\n",
       "  </thead>\n",
       "  <tbody>\n",
       "    <tr>\n",
       "      <th>10800</th>\n",
       "      <td>082177364X</td>\n",
       "      <td>Finders Keepers</td>\n",
       "      <td>Fern Michaels</td>\n",
       "      <td>2002.0</td>\n",
       "      <td>Zebra Books</td>\n",
       "    </tr>\n",
       "    <tr>\n",
       "      <th>42020</th>\n",
       "      <td>0070465037</td>\n",
       "      <td>Finders Keepers</td>\n",
       "      <td>Barbara Nickolae</td>\n",
       "      <td>1989.0</td>\n",
       "      <td>McGraw-Hill Companies</td>\n",
       "    </tr>\n",
       "    <tr>\n",
       "      <th>58267</th>\n",
       "      <td>0688118461</td>\n",
       "      <td>Finders Keepers</td>\n",
       "      <td>Emily Rodda</td>\n",
       "      <td>1993.0</td>\n",
       "      <td>Harpercollins Juvenile Books</td>\n",
       "    </tr>\n",
       "    <tr>\n",
       "      <th>66681</th>\n",
       "      <td>1575663236</td>\n",
       "      <td>Finders Keepers</td>\n",
       "      <td>Fern Michaels</td>\n",
       "      <td>1998.0</td>\n",
       "      <td>Kensington Publishing Corporation</td>\n",
       "    </tr>\n",
       "    <tr>\n",
       "      <th>129043</th>\n",
       "      <td>1931696993</td>\n",
       "      <td>Finders Keepers</td>\n",
       "      <td>Linnea Sinclair</td>\n",
       "      <td>2001.0</td>\n",
       "      <td>N/A</td>\n",
       "    </tr>\n",
       "    <tr>\n",
       "      <th>134315</th>\n",
       "      <td>0156309505</td>\n",
       "      <td>Finders Keepers</td>\n",
       "      <td>Will</td>\n",
       "      <td>1989.0</td>\n",
       "      <td>Voyager Books</td>\n",
       "    </tr>\n",
       "    <tr>\n",
       "      <th>173482</th>\n",
       "      <td>0973146907</td>\n",
       "      <td>Finders Keepers</td>\n",
       "      <td>Sean M. Costello</td>\n",
       "      <td>2002.0</td>\n",
       "      <td>Red Tower Publications</td>\n",
       "    </tr>\n",
       "    <tr>\n",
       "      <th>195896</th>\n",
       "      <td>0061083909</td>\n",
       "      <td>Finders Keepers</td>\n",
       "      <td>Sharon Sala</td>\n",
       "      <td>2003.0</td>\n",
       "      <td>HarperTorch</td>\n",
       "    </tr>\n",
       "    <tr>\n",
       "      <th>211886</th>\n",
       "      <td>0373261160</td>\n",
       "      <td>Finders Keepers</td>\n",
       "      <td>Elizabeth Travis</td>\n",
       "      <td>1993.0</td>\n",
       "      <td>Worldwide Library</td>\n",
       "    </tr>\n",
       "  </tbody>\n",
       "</table>\n",
       "</div>"
      ],
      "text/plain": [
       "           book_id            title            author     YOP  \\\n",
       "10800   082177364X  Finders Keepers     Fern Michaels  2002.0   \n",
       "42020   0070465037  Finders Keepers  Barbara Nickolae  1989.0   \n",
       "58267   0688118461  Finders Keepers       Emily Rodda  1993.0   \n",
       "66681   1575663236  Finders Keepers     Fern Michaels  1998.0   \n",
       "129043  1931696993  Finders Keepers   Linnea Sinclair  2001.0   \n",
       "134315  0156309505  Finders Keepers              Will  1989.0   \n",
       "173482  0973146907  Finders Keepers  Sean M. Costello  2002.0   \n",
       "195896  0061083909  Finders Keepers       Sharon Sala  2003.0   \n",
       "211886  0373261160  Finders Keepers  Elizabeth Travis  1993.0   \n",
       "\n",
       "                                publisher  \n",
       "10800                         Zebra Books  \n",
       "42020               McGraw-Hill Companies  \n",
       "58267        Harpercollins Juvenile Books  \n",
       "66681   Kensington Publishing Corporation  \n",
       "129043                                N/A  \n",
       "134315                      Voyager Books  \n",
       "173482             Red Tower Publications  \n",
       "195896                        HarperTorch  \n",
       "211886                  Worldwide Library  "
      ]
     },
     "execution_count": 19,
     "metadata": {},
     "output_type": "execute_result"
    }
   ],
   "source": [
    "df2[df2['title'] == 'Finders Keepers']"
   ]
  },
  {
   "cell_type": "code",
   "execution_count": 20,
   "metadata": {
    "scrolled": true
   },
   "outputs": [
    {
     "data": {
      "text/html": [
       "<div>\n",
       "<style scoped>\n",
       "    .dataframe tbody tr th:only-of-type {\n",
       "        vertical-align: middle;\n",
       "    }\n",
       "\n",
       "    .dataframe tbody tr th {\n",
       "        vertical-align: top;\n",
       "    }\n",
       "\n",
       "    .dataframe thead th {\n",
       "        text-align: right;\n",
       "    }\n",
       "</style>\n",
       "<table border=\"1\" class=\"dataframe\">\n",
       "  <thead>\n",
       "    <tr style=\"text-align: right;\">\n",
       "      <th></th>\n",
       "      <th>book_id</th>\n",
       "      <th>title</th>\n",
       "      <th>author</th>\n",
       "      <th>YOP</th>\n",
       "      <th>publisher</th>\n",
       "    </tr>\n",
       "  </thead>\n",
       "  <tbody>\n",
       "    <tr>\n",
       "      <th>129043</th>\n",
       "      <td>1931696993</td>\n",
       "      <td>Finders Keepers</td>\n",
       "      <td>Linnea Sinclair</td>\n",
       "      <td>2001.0</td>\n",
       "      <td>N/A</td>\n",
       "    </tr>\n",
       "  </tbody>\n",
       "</table>\n",
       "</div>"
      ],
      "text/plain": [
       "           book_id            title           author     YOP publisher\n",
       "129043  1931696993  Finders Keepers  Linnea Sinclair  2001.0       N/A"
      ]
     },
     "execution_count": 20,
     "metadata": {},
     "output_type": "execute_result"
    }
   ],
   "source": [
    "df2[df2['author'] == 'Linnea Sinclair']"
   ]
  },
  {
   "cell_type": "markdown",
   "metadata": {},
   "source": [
    "### Users cleaning"
   ]
  },
  {
   "cell_type": "code",
   "execution_count": 21,
   "metadata": {
    "scrolled": true
   },
   "outputs": [
    {
     "data": {
      "text/html": [
       "<div>\n",
       "<style scoped>\n",
       "    .dataframe tbody tr th:only-of-type {\n",
       "        vertical-align: middle;\n",
       "    }\n",
       "\n",
       "    .dataframe tbody tr th {\n",
       "        vertical-align: top;\n",
       "    }\n",
       "\n",
       "    .dataframe thead th {\n",
       "        text-align: right;\n",
       "    }\n",
       "</style>\n",
       "<table border=\"1\" class=\"dataframe\">\n",
       "  <thead>\n",
       "    <tr style=\"text-align: right;\">\n",
       "      <th></th>\n",
       "      <th>user_id</th>\n",
       "      <th>location</th>\n",
       "      <th>age</th>\n",
       "    </tr>\n",
       "  </thead>\n",
       "  <tbody>\n",
       "    <tr>\n",
       "      <th>0</th>\n",
       "      <td>1</td>\n",
       "      <td>nyc, new york, usa</td>\n",
       "      <td>NaN</td>\n",
       "    </tr>\n",
       "    <tr>\n",
       "      <th>1</th>\n",
       "      <td>2</td>\n",
       "      <td>stockton, california, usa</td>\n",
       "      <td>18.0</td>\n",
       "    </tr>\n",
       "    <tr>\n",
       "      <th>2</th>\n",
       "      <td>3</td>\n",
       "      <td>moscow, yukon territory, russia</td>\n",
       "      <td>NaN</td>\n",
       "    </tr>\n",
       "    <tr>\n",
       "      <th>3</th>\n",
       "      <td>4</td>\n",
       "      <td>porto, v.n.gaia, portugal</td>\n",
       "      <td>17.0</td>\n",
       "    </tr>\n",
       "    <tr>\n",
       "      <th>4</th>\n",
       "      <td>5</td>\n",
       "      <td>farnborough, hants, united kingdom</td>\n",
       "      <td>NaN</td>\n",
       "    </tr>\n",
       "  </tbody>\n",
       "</table>\n",
       "</div>"
      ],
      "text/plain": [
       "   user_id                            location   age\n",
       "0        1                  nyc, new york, usa   NaN\n",
       "1        2           stockton, california, usa  18.0\n",
       "2        3     moscow, yukon territory, russia   NaN\n",
       "3        4           porto, v.n.gaia, portugal  17.0\n",
       "4        5  farnborough, hants, united kingdom   NaN"
      ]
     },
     "execution_count": 21,
     "metadata": {},
     "output_type": "execute_result"
    }
   ],
   "source": [
    "df1.head()"
   ]
  },
  {
   "cell_type": "code",
   "execution_count": 22,
   "metadata": {
    "scrolled": true
   },
   "outputs": [
    {
     "data": {
      "text/plain": [
       "user_id       int64\n",
       "location     object\n",
       "age         float64\n",
       "dtype: object"
      ]
     },
     "execution_count": 22,
     "metadata": {},
     "output_type": "execute_result"
    }
   ],
   "source": [
    "df1.dtypes"
   ]
  },
  {
   "cell_type": "code",
   "execution_count": 23,
   "metadata": {
    "scrolled": true
   },
   "outputs": [
    {
     "data": {
      "text/plain": [
       "(278858, 3)"
      ]
     },
     "execution_count": 23,
     "metadata": {},
     "output_type": "execute_result"
    }
   ],
   "source": [
    "df1.shape"
   ]
  },
  {
   "cell_type": "code",
   "execution_count": 24,
   "metadata": {
    "scrolled": true
   },
   "outputs": [
    {
     "data": {
      "text/plain": [
       "False    168096\n",
       "True     110762\n",
       "Name: age, dtype: int64"
      ]
     },
     "execution_count": 24,
     "metadata": {},
     "output_type": "execute_result"
    }
   ],
   "source": [
    "df1['age'].isna().value_counts()"
   ]
  },
  {
   "cell_type": "code",
   "execution_count": 25,
   "metadata": {
    "scrolled": true
   },
   "outputs": [
    {
     "data": {
      "text/plain": [
       "array([  0.,   1.,   2.,   3.,   4.,   5.,   6.,   7.,   8.,   9.,  10.,\n",
       "        11.,  12.,  13.,  14.,  15.,  16.,  17.,  18.,  19.,  20.,  21.,\n",
       "        22.,  23.,  24.,  25.,  26.,  27.,  28.,  29.,  30.,  31.,  32.,\n",
       "        33.,  34.,  35.,  36.,  37.,  38.,  39.,  40.,  41.,  42.,  43.,\n",
       "        44.,  45.,  46.,  47.,  48.,  49.,  50.,  51.,  52.,  53.,  54.,\n",
       "        55.,  56.,  57.,  58.,  59.,  60.,  61.,  62.,  63.,  64.,  65.,\n",
       "        66.,  67.,  68.,  69.,  70.,  71.,  72.,  73.,  74.,  75.,  76.,\n",
       "        77.,  78.,  79.,  80.,  81.,  82.,  83.,  84.,  85.,  86.,  87.,\n",
       "        88.,  89.,  90.,  91.,  92.,  93.,  94.,  95.,  96.,  97.,  98.,\n",
       "        99., 100., 101., 102., 103., 104., 105., 106., 107., 108., 109.,\n",
       "       110., 111., 113., 114., 115., 116., 118., 119., 123., 124., 127.,\n",
       "       128., 132., 133., 136., 137., 138., 140., 141., 143., 146., 147.,\n",
       "       148., 151., 152., 156., 157., 159., 162., 168., 172., 175., 183.,\n",
       "       186., 189., 199., 200., 201., 204., 207., 208., 209., 210., 212.,\n",
       "       219., 220., 223., 226., 228., 229., 230., 231., 237., 239., 244.,\n",
       "        nan])"
      ]
     },
     "execution_count": 25,
     "metadata": {},
     "output_type": "execute_result"
    }
   ],
   "source": [
    "np.sort(df1['age'].unique())"
   ]
  },
  {
   "cell_type": "code",
   "execution_count": 26,
   "metadata": {
    "scrolled": true
   },
   "outputs": [
    {
     "data": {
      "text/plain": [
       "(1312, 3)"
      ]
     },
     "execution_count": 26,
     "metadata": {},
     "output_type": "execute_result"
    }
   ],
   "source": [
    "# Age above 90 and below seems to be erroneous\n",
    "\n",
    "df1[(df1['age'] > 90) | (df1['age'] < 5)].shape"
   ]
  },
  {
   "cell_type": "markdown",
   "metadata": {},
   "source": [
    "### Ratings cleaning"
   ]
  },
  {
   "cell_type": "code",
   "execution_count": 27,
   "metadata": {
    "scrolled": true
   },
   "outputs": [
    {
     "data": {
      "text/html": [
       "<div>\n",
       "<style scoped>\n",
       "    .dataframe tbody tr th:only-of-type {\n",
       "        vertical-align: middle;\n",
       "    }\n",
       "\n",
       "    .dataframe tbody tr th {\n",
       "        vertical-align: top;\n",
       "    }\n",
       "\n",
       "    .dataframe thead th {\n",
       "        text-align: right;\n",
       "    }\n",
       "</style>\n",
       "<table border=\"1\" class=\"dataframe\">\n",
       "  <thead>\n",
       "    <tr style=\"text-align: right;\">\n",
       "      <th></th>\n",
       "      <th>user_id</th>\n",
       "      <th>book_id</th>\n",
       "      <th>book_rating</th>\n",
       "    </tr>\n",
       "  </thead>\n",
       "  <tbody>\n",
       "    <tr>\n",
       "      <th>0</th>\n",
       "      <td>276725</td>\n",
       "      <td>034545104X</td>\n",
       "      <td>0</td>\n",
       "    </tr>\n",
       "    <tr>\n",
       "      <th>1</th>\n",
       "      <td>276726</td>\n",
       "      <td>0155061224</td>\n",
       "      <td>5</td>\n",
       "    </tr>\n",
       "    <tr>\n",
       "      <th>2</th>\n",
       "      <td>276727</td>\n",
       "      <td>0446520802</td>\n",
       "      <td>0</td>\n",
       "    </tr>\n",
       "    <tr>\n",
       "      <th>3</th>\n",
       "      <td>276729</td>\n",
       "      <td>052165615X</td>\n",
       "      <td>3</td>\n",
       "    </tr>\n",
       "    <tr>\n",
       "      <th>4</th>\n",
       "      <td>276729</td>\n",
       "      <td>0521795028</td>\n",
       "      <td>6</td>\n",
       "    </tr>\n",
       "  </tbody>\n",
       "</table>\n",
       "</div>"
      ],
      "text/plain": [
       "   user_id     book_id  book_rating\n",
       "0   276725  034545104X            0\n",
       "1   276726  0155061224            5\n",
       "2   276727  0446520802            0\n",
       "3   276729  052165615X            3\n",
       "4   276729  0521795028            6"
      ]
     },
     "execution_count": 27,
     "metadata": {},
     "output_type": "execute_result"
    }
   ],
   "source": [
    "df3.head()"
   ]
  },
  {
   "cell_type": "code",
   "execution_count": 28,
   "metadata": {
    "scrolled": true
   },
   "outputs": [
    {
     "data": {
      "text/plain": [
       "(1149780, 3)"
      ]
     },
     "execution_count": 28,
     "metadata": {},
     "output_type": "execute_result"
    }
   ],
   "source": [
    "df3.shape"
   ]
  },
  {
   "cell_type": "code",
   "execution_count": 29,
   "metadata": {
    "scrolled": true
   },
   "outputs": [
    {
     "data": {
      "text/plain": [
       "array([ 0,  5,  3,  6,  8,  7, 10,  9,  4,  1,  2], dtype=int64)"
      ]
     },
     "execution_count": 29,
     "metadata": {},
     "output_type": "execute_result"
    }
   ],
   "source": [
    "df3['book_rating'].unique()"
   ]
  },
  {
   "cell_type": "code",
   "execution_count": 30,
   "metadata": {
    "scrolled": true
   },
   "outputs": [
    {
     "data": {
      "text/plain": [
       "(1149780, 3)"
      ]
     },
     "execution_count": 30,
     "metadata": {},
     "output_type": "execute_result"
    }
   ],
   "source": [
    "# matching user_id from users to ratings dataset\n",
    "\n",
    "df3[df3['user_id'].isin(df1['user_id'])].shape"
   ]
  },
  {
   "cell_type": "code",
   "execution_count": 31,
   "metadata": {
    "scrolled": true
   },
   "outputs": [
    {
     "data": {
      "text/plain": [
       "(1031175, 3)"
      ]
     },
     "execution_count": 31,
     "metadata": {},
     "output_type": "execute_result"
    }
   ],
   "source": [
    "# matching book_id from books to rating dataset\n",
    "\n",
    "df3[df3['book_id'].isin(df2['book_id'])].shape"
   ]
  },
  {
   "cell_type": "code",
   "execution_count": 32,
   "metadata": {
    "scrolled": true
   },
   "outputs": [
    {
     "data": {
      "text/html": [
       "<div>\n",
       "<style scoped>\n",
       "    .dataframe tbody tr th:only-of-type {\n",
       "        vertical-align: middle;\n",
       "    }\n",
       "\n",
       "    .dataframe tbody tr th {\n",
       "        vertical-align: top;\n",
       "    }\n",
       "\n",
       "    .dataframe thead th {\n",
       "        text-align: right;\n",
       "    }\n",
       "</style>\n",
       "<table border=\"1\" class=\"dataframe\">\n",
       "  <thead>\n",
       "    <tr style=\"text-align: right;\">\n",
       "      <th></th>\n",
       "      <th>user_id</th>\n",
       "      <th>book_id</th>\n",
       "      <th>book_rating</th>\n",
       "    </tr>\n",
       "  </thead>\n",
       "  <tbody>\n",
       "    <tr>\n",
       "      <th>0</th>\n",
       "      <td>276725</td>\n",
       "      <td>034545104X</td>\n",
       "      <td>0</td>\n",
       "    </tr>\n",
       "    <tr>\n",
       "      <th>1</th>\n",
       "      <td>276726</td>\n",
       "      <td>0155061224</td>\n",
       "      <td>5</td>\n",
       "    </tr>\n",
       "    <tr>\n",
       "      <th>2</th>\n",
       "      <td>276727</td>\n",
       "      <td>0446520802</td>\n",
       "      <td>0</td>\n",
       "    </tr>\n",
       "    <tr>\n",
       "      <th>3</th>\n",
       "      <td>276729</td>\n",
       "      <td>052165615X</td>\n",
       "      <td>3</td>\n",
       "    </tr>\n",
       "    <tr>\n",
       "      <th>4</th>\n",
       "      <td>276729</td>\n",
       "      <td>0521795028</td>\n",
       "      <td>6</td>\n",
       "    </tr>\n",
       "  </tbody>\n",
       "</table>\n",
       "</div>"
      ],
      "text/plain": [
       "   user_id     book_id  book_rating\n",
       "0   276725  034545104X            0\n",
       "1   276726  0155061224            5\n",
       "2   276727  0446520802            0\n",
       "3   276729  052165615X            3\n",
       "4   276729  0521795028            6"
      ]
     },
     "execution_count": 32,
     "metadata": {},
     "output_type": "execute_result"
    }
   ],
   "source": [
    "df4 = df3[df3['book_id'].isin(df2['book_id'])]\n",
    "\n",
    "df4.head()"
   ]
  },
  {
   "cell_type": "code",
   "execution_count": 33,
   "metadata": {
    "scrolled": true
   },
   "outputs": [
    {
     "name": "stdout",
     "output_type": "stream",
     "text": [
      "rating matrix should have 75676205182 entries \n",
      " however, df4 have 1031175 entries \n",
      " sparsity = 99.99863738542713 %\n"
     ]
    }
   ],
   "source": [
    "print('rating matrix should have {} entries'.format(df1.shape[0]*df2.shape[0]),'\\n',\n",
    "      'however, df4 have {} entries'.format(df4.shape[0]),'\\n',\n",
    "      'sparsity = {} %'.format(100 - df4.shape[0]*100/(df1.shape[0]*df2.shape[0])))"
   ]
  },
  {
   "cell_type": "code",
   "execution_count": 34,
   "metadata": {
    "scrolled": true
   },
   "outputs": [],
   "source": [
    "# book_ratings with 0 values are implicit rating and 1-10 are explicit ratings\n",
    "\n",
    "df4_implicit = df4[df4['book_rating'] == 0]\n",
    "df4_explicit = df4[df4['book_rating'] != 0]"
   ]
  },
  {
   "cell_type": "code",
   "execution_count": 35,
   "metadata": {
    "scrolled": true
   },
   "outputs": [
    {
     "name": "stdout",
     "output_type": "stream",
     "text": [
      "(647323, 3) (383852, 3)\n"
     ]
    }
   ],
   "source": [
    "print(df4_implicit.shape, df4_explicit.shape)"
   ]
  },
  {
   "cell_type": "code",
   "execution_count": 36,
   "metadata": {
    "scrolled": true
   },
   "outputs": [
    {
     "data": {
      "text/plain": [
       "<AxesSubplot:>"
      ]
     },
     "execution_count": 36,
     "metadata": {},
     "output_type": "execute_result"
    },
    {
     "data": {
      "image/png": "[encoded data removed]",
      "text/plain": [
       "<Figure size 432x288 with 1 Axes>"
      ]
     },
     "metadata": {
      "needs_background": "light"
     },
     "output_type": "display_data"
    }
   ],
   "source": [
    "import matplotlib.pyplot as plt\n",
    "\n",
    "df4_explicit['book_rating'].hist(bins = 10)"
   ]
  },
  {
   "cell_type": "code",
   "execution_count": 37,
   "metadata": {
    "scrolled": true
   },
   "outputs": [
    {
     "data": {
      "text/plain": [
       "<AxesSubplot:xlabel='book_rating', ylabel='count'>"
      ]
     },
     "execution_count": 37,
     "metadata": {},
     "output_type": "execute_result"
    },
    {
     "data": {
      "image/png": "[encoded data removed]",
      "text/plain": [
       "<Figure size 432x288 with 1 Axes>"
      ]
     },
     "metadata": {
      "needs_background": "light"
     },
     "output_type": "display_data"
    }
   ],
   "source": [
    "import seaborn as sns\n",
    "\n",
    "sns.countplot(data = df4_explicit, x = 'book_rating')"
   ]
  },
  {
   "cell_type": "markdown",
   "metadata": {},
   "source": [
    "# Popularity based recommendation"
   ]
  },
  {
   "cell_type": "code",
   "execution_count": 38,
   "metadata": {
    "scrolled": true
   },
   "outputs": [],
   "source": [
    "pop_rat = pd.DataFrame(df4_explicit.groupby('book_id')['book_rating'].sum())"
   ]
  },
  {
   "cell_type": "code",
   "execution_count": 39,
   "metadata": {
    "scrolled": true
   },
   "outputs": [
    {
     "data": {
      "text/html": [
       "<div>\n",
       "<style scoped>\n",
       "    .dataframe tbody tr th:only-of-type {\n",
       "        vertical-align: middle;\n",
       "    }\n",
       "\n",
       "    .dataframe tbody tr th {\n",
       "        vertical-align: top;\n",
       "    }\n",
       "\n",
       "    .dataframe thead th {\n",
       "        text-align: right;\n",
       "    }\n",
       "</style>\n",
       "<table border=\"1\" class=\"dataframe\">\n",
       "  <thead>\n",
       "    <tr style=\"text-align: right;\">\n",
       "      <th></th>\n",
       "      <th>book_rating</th>\n",
       "    </tr>\n",
       "    <tr>\n",
       "      <th>book_id</th>\n",
       "      <th></th>\n",
       "    </tr>\n",
       "  </thead>\n",
       "  <tbody>\n",
       "    <tr>\n",
       "      <th>0316666343</th>\n",
       "      <td>5787</td>\n",
       "    </tr>\n",
       "    <tr>\n",
       "      <th>0385504209</th>\n",
       "      <td>4108</td>\n",
       "    </tr>\n",
       "    <tr>\n",
       "      <th>0312195516</th>\n",
       "      <td>3134</td>\n",
       "    </tr>\n",
       "    <tr>\n",
       "      <th>059035342X</th>\n",
       "      <td>2798</td>\n",
       "    </tr>\n",
       "    <tr>\n",
       "      <th>0142001740</th>\n",
       "      <td>2595</td>\n",
       "    </tr>\n",
       "  </tbody>\n",
       "</table>\n",
       "</div>"
      ],
      "text/plain": [
       "            book_rating\n",
       "book_id                \n",
       "0316666343         5787\n",
       "0385504209         4108\n",
       "0312195516         3134\n",
       "059035342X         2798\n",
       "0142001740         2595"
      ]
     },
     "execution_count": 39,
     "metadata": {},
     "output_type": "execute_result"
    }
   ],
   "source": [
    "pop_10_books = pop_rat.sort_values('book_rating', ascending = False)[:10]\n",
    "pop_10_books.head()"
   ]
  },
  {
   "cell_type": "code",
   "execution_count": 40,
   "metadata": {
    "scrolled": true
   },
   "outputs": [
    {
     "data": {
      "text/html": [
       "<div>\n",
       "<style scoped>\n",
       "    .dataframe tbody tr th:only-of-type {\n",
       "        vertical-align: middle;\n",
       "    }\n",
       "\n",
       "    .dataframe tbody tr th {\n",
       "        vertical-align: top;\n",
       "    }\n",
       "\n",
       "    .dataframe thead th {\n",
       "        text-align: right;\n",
       "    }\n",
       "</style>\n",
       "<table border=\"1\" class=\"dataframe\">\n",
       "  <thead>\n",
       "    <tr style=\"text-align: right;\">\n",
       "      <th></th>\n",
       "      <th>book_id</th>\n",
       "      <th>book_rating</th>\n",
       "      <th>title</th>\n",
       "      <th>author</th>\n",
       "      <th>YOP</th>\n",
       "      <th>publisher</th>\n",
       "    </tr>\n",
       "  </thead>\n",
       "  <tbody>\n",
       "    <tr>\n",
       "      <th>0</th>\n",
       "      <td>0316666343</td>\n",
       "      <td>5787</td>\n",
       "      <td>The Lovely Bones: A Novel</td>\n",
       "      <td>Alice Sebold</td>\n",
       "      <td>2002.0</td>\n",
       "      <td>Little, Brown</td>\n",
       "    </tr>\n",
       "    <tr>\n",
       "      <th>1</th>\n",
       "      <td>0385504209</td>\n",
       "      <td>4108</td>\n",
       "      <td>The Da Vinci Code</td>\n",
       "      <td>Dan Brown</td>\n",
       "      <td>2003.0</td>\n",
       "      <td>Doubleday</td>\n",
       "    </tr>\n",
       "    <tr>\n",
       "      <th>2</th>\n",
       "      <td>0312195516</td>\n",
       "      <td>3134</td>\n",
       "      <td>The Red Tent (Bestselling Backlist)</td>\n",
       "      <td>Anita Diamant</td>\n",
       "      <td>1998.0</td>\n",
       "      <td>Picador USA</td>\n",
       "    </tr>\n",
       "    <tr>\n",
       "      <th>3</th>\n",
       "      <td>059035342X</td>\n",
       "      <td>2798</td>\n",
       "      <td>Harry Potter and the Sorcerer's Stone (Harry Potter (Paperback))</td>\n",
       "      <td>J. K. Rowling</td>\n",
       "      <td>1999.0</td>\n",
       "      <td>Arthur A. Levine Books</td>\n",
       "    </tr>\n",
       "    <tr>\n",
       "      <th>4</th>\n",
       "      <td>0142001740</td>\n",
       "      <td>2595</td>\n",
       "      <td>The Secret Life of Bees</td>\n",
       "      <td>Sue Monk Kidd</td>\n",
       "      <td>2003.0</td>\n",
       "      <td>Penguin Books</td>\n",
       "    </tr>\n",
       "    <tr>\n",
       "      <th>5</th>\n",
       "      <td>0971880107</td>\n",
       "      <td>2551</td>\n",
       "      <td>Wild Animus</td>\n",
       "      <td>Rich Shapero</td>\n",
       "      <td>2004.0</td>\n",
       "      <td>Too Far</td>\n",
       "    </tr>\n",
       "    <tr>\n",
       "      <th>6</th>\n",
       "      <td>0060928336</td>\n",
       "      <td>2524</td>\n",
       "      <td>Divine Secrets of the Ya-Ya Sisterhood: A Novel</td>\n",
       "      <td>Rebecca Wells</td>\n",
       "      <td>1997.0</td>\n",
       "      <td>Perennial</td>\n",
       "    </tr>\n",
       "    <tr>\n",
       "      <th>7</th>\n",
       "      <td>0446672211</td>\n",
       "      <td>2402</td>\n",
       "      <td>Where the Heart Is (Oprah's Book Club (Paperback))</td>\n",
       "      <td>Billie Letts</td>\n",
       "      <td>1998.0</td>\n",
       "      <td>Warner Books</td>\n",
       "    </tr>\n",
       "    <tr>\n",
       "      <th>8</th>\n",
       "      <td>0452282152</td>\n",
       "      <td>2219</td>\n",
       "      <td>Girl with a Pearl Earring</td>\n",
       "      <td>Tracy Chevalier</td>\n",
       "      <td>2001.0</td>\n",
       "      <td>Plume Books</td>\n",
       "    </tr>\n",
       "    <tr>\n",
       "      <th>9</th>\n",
       "      <td>0671027360</td>\n",
       "      <td>2179</td>\n",
       "      <td>Angels &amp;amp; Demons</td>\n",
       "      <td>Dan Brown</td>\n",
       "      <td>2001.0</td>\n",
       "      <td>Pocket Star</td>\n",
       "    </tr>\n",
       "  </tbody>\n",
       "</table>\n",
       "</div>"
      ],
      "text/plain": [
       "      book_id  book_rating  \\\n",
       "0  0316666343         5787   \n",
       "1  0385504209         4108   \n",
       "2  0312195516         3134   \n",
       "3  059035342X         2798   \n",
       "4  0142001740         2595   \n",
       "5  0971880107         2551   \n",
       "6  0060928336         2524   \n",
       "7  0446672211         2402   \n",
       "8  0452282152         2219   \n",
       "9  0671027360         2179   \n",
       "\n",
       "                                                              title  \\\n",
       "0                                         The Lovely Bones: A Novel   \n",
       "1                                                 The Da Vinci Code   \n",
       "2                               The Red Tent (Bestselling Backlist)   \n",
       "3  Harry Potter and the Sorcerer's Stone (Harry Potter (Paperback))   \n",
       "4                                           The Secret Life of Bees   \n",
       "5                                                       Wild Animus   \n",
       "6                   Divine Secrets of the Ya-Ya Sisterhood: A Novel   \n",
       "7                Where the Heart Is (Oprah's Book Club (Paperback))   \n",
       "8                                         Girl with a Pearl Earring   \n",
       "9                                               Angels &amp; Demons   \n",
       "\n",
       "            author     YOP               publisher  \n",
       "0     Alice Sebold  2002.0           Little, Brown  \n",
       "1        Dan Brown  2003.0               Doubleday  \n",
       "2    Anita Diamant  1998.0             Picador USA  \n",
       "3    J. K. Rowling  1999.0  Arthur A. Levine Books  \n",
       "4    Sue Monk Kidd  2003.0           Penguin Books  \n",
       "5     Rich Shapero  2004.0                 Too Far  \n",
       "6    Rebecca Wells  1997.0               Perennial  \n",
       "7     Billie Letts  1998.0            Warner Books  \n",
       "8  Tracy Chevalier  2001.0             Plume Books  \n",
       "9        Dan Brown  2001.0             Pocket Star  "
      ]
     },
     "execution_count": 40,
     "metadata": {},
     "output_type": "execute_result"
    }
   ],
   "source": [
    "pd.merge(pop_10_books, df2, how = 'inner', on = 'book_id')"
   ]
  },
  {
   "cell_type": "markdown",
   "metadata": {},
   "source": [
    "# Collaborative Filtering based recommendation"
   ]
  },
  {
   "cell_type": "markdown",
   "metadata": {},
   "source": [
    "Making user-book rating matrix (using only explicit ratings) with reduced data\n",
    "- Only those users who have given ratings to 100 or more books\n",
    "- Only those books which has recieved aggregated 100 or more ratings"
   ]
  },
  {
   "cell_type": "code",
   "execution_count": 41,
   "metadata": {
    "scrolled": true
   },
   "outputs": [
    {
     "data": {
      "text/html": [
       "<div>\n",
       "<style scoped>\n",
       "    .dataframe tbody tr th:only-of-type {\n",
       "        vertical-align: middle;\n",
       "    }\n",
       "\n",
       "    .dataframe tbody tr th {\n",
       "        vertical-align: top;\n",
       "    }\n",
       "\n",
       "    .dataframe thead th {\n",
       "        text-align: right;\n",
       "    }\n",
       "</style>\n",
       "<table border=\"1\" class=\"dataframe\">\n",
       "  <thead>\n",
       "    <tr style=\"text-align: right;\">\n",
       "      <th></th>\n",
       "      <th>user_id</th>\n",
       "      <th>book_id</th>\n",
       "      <th>book_rating</th>\n",
       "    </tr>\n",
       "  </thead>\n",
       "  <tbody>\n",
       "    <tr>\n",
       "      <th>1</th>\n",
       "      <td>276726</td>\n",
       "      <td>0155061224</td>\n",
       "      <td>5</td>\n",
       "    </tr>\n",
       "    <tr>\n",
       "      <th>3</th>\n",
       "      <td>276729</td>\n",
       "      <td>052165615X</td>\n",
       "      <td>3</td>\n",
       "    </tr>\n",
       "    <tr>\n",
       "      <th>4</th>\n",
       "      <td>276729</td>\n",
       "      <td>0521795028</td>\n",
       "      <td>6</td>\n",
       "    </tr>\n",
       "    <tr>\n",
       "      <th>8</th>\n",
       "      <td>276744</td>\n",
       "      <td>038550120X</td>\n",
       "      <td>7</td>\n",
       "    </tr>\n",
       "    <tr>\n",
       "      <th>16</th>\n",
       "      <td>276747</td>\n",
       "      <td>0060517794</td>\n",
       "      <td>9</td>\n",
       "    </tr>\n",
       "  </tbody>\n",
       "</table>\n",
       "</div>"
      ],
      "text/plain": [
       "    user_id     book_id  book_rating\n",
       "1    276726  0155061224            5\n",
       "3    276729  052165615X            3\n",
       "4    276729  0521795028            6\n",
       "8    276744  038550120X            7\n",
       "16   276747  0060517794            9"
      ]
     },
     "execution_count": 41,
     "metadata": {},
     "output_type": "execute_result"
    }
   ],
   "source": [
    "df4_explicit.head()"
   ]
  },
  {
   "cell_type": "code",
   "execution_count": 42,
   "metadata": {
    "scrolled": true
   },
   "outputs": [],
   "source": [
    "count1 = df4_explicit['user_id'].value_counts()\n",
    "\n",
    "count2 = df4_explicit['book_id'].value_counts()"
   ]
  },
  {
   "cell_type": "code",
   "execution_count": 43,
   "metadata": {
    "scrolled": true
   },
   "outputs": [
    {
     "name": "stdout",
     "output_type": "stream",
     "text": [
      "449\n",
      "139\n"
     ]
    }
   ],
   "source": [
    "user100 = count1[count1 >= 100].index\n",
    "print(len(user100))\n",
    "\n",
    "# books which have recieved atleast 100 ratings in count\n",
    "\n",
    "book100 = count2[count2 >= 100].index\n",
    "print(len(book100))"
   ]
  },
  {
   "cell_type": "code",
   "execution_count": 44,
   "metadata": {
    "scrolled": true
   },
   "outputs": [
    {
     "data": {
      "text/plain": [
       "(3149, 3)"
      ]
     },
     "execution_count": 44,
     "metadata": {},
     "output_type": "execute_result"
    }
   ],
   "source": [
    "# All books in df4_explicit\n",
    "# df4_explicit_100 = df4_explicit[df4_explicit['user_id'].isin(user100)]\n",
    "\n",
    "# books which have recieved atleast 100 ratings in count\n",
    "df4_explicit_100 = df4_explicit[(df4_explicit['user_id'].isin(user100)) & (df4_explicit['book_id'].isin(book100))]\n",
    "\n",
    "# books with atleast 100 ratings in aggreagate\n",
    "# book100_agg = pop_rat[pop_rat['book_rating']>100].index\n",
    "# print(len(book100_agg))\n",
    "\n",
    "# df4_explicit_100 = df4_explicit[(df4_explicit['user_id'].isin(user100)) & (df4_explicit['book_id'].isin(book100_agg))]\n",
    "\n",
    "df4_explicit_100.shape"
   ]
  },
  {
   "cell_type": "code",
   "execution_count": 45,
   "metadata": {
    "scrolled": true
   },
   "outputs": [],
   "source": [
    "# Making user-book rating matrix\n",
    "\n",
    "rating_matrix = df4_explicit_100.pivot(index = 'user_id', columns = 'book_id', values = 'book_rating')"
   ]
  },
  {
   "cell_type": "code",
   "execution_count": 46,
   "metadata": {
    "scrolled": true
   },
   "outputs": [
    {
     "data": {
      "text/html": [
       "<div>\n",
       "<style scoped>\n",
       "    .dataframe tbody tr th:only-of-type {\n",
       "        vertical-align: middle;\n",
       "    }\n",
       "\n",
       "    .dataframe tbody tr th {\n",
       "        vertical-align: top;\n",
       "    }\n",
       "\n",
       "    .dataframe thead th {\n",
       "        text-align: right;\n",
       "    }\n",
       "</style>\n",
       "<table border=\"1\" class=\"dataframe\">\n",
       "  <thead>\n",
       "    <tr style=\"text-align: right;\">\n",
       "      <th>book_id</th>\n",
       "      <th>0060392452</th>\n",
       "      <th>0060502258</th>\n",
       "      <th>0060915544</th>\n",
       "      <th>0060928336</th>\n",
       "      <th>0060930535</th>\n",
       "      <th>0060934417</th>\n",
       "      <th>0060938455</th>\n",
       "      <th>0060959037</th>\n",
       "      <th>0060976845</th>\n",
       "      <th>0060987103</th>\n",
       "      <th>...</th>\n",
       "      <th>0786881852</th>\n",
       "      <th>0804106304</th>\n",
       "      <th>0804114986</th>\n",
       "      <th>0805063897</th>\n",
       "      <th>0812550706</th>\n",
       "      <th>0842329129</th>\n",
       "      <th>0971880107</th>\n",
       "      <th>1400034779</th>\n",
       "      <th>1558743669</th>\n",
       "      <th>1573229326</th>\n",
       "    </tr>\n",
       "    <tr>\n",
       "      <th>user_id</th>\n",
       "      <th></th>\n",
       "      <th></th>\n",
       "      <th></th>\n",
       "      <th></th>\n",
       "      <th></th>\n",
       "      <th></th>\n",
       "      <th></th>\n",
       "      <th></th>\n",
       "      <th></th>\n",
       "      <th></th>\n",
       "      <th></th>\n",
       "      <th></th>\n",
       "      <th></th>\n",
       "      <th></th>\n",
       "      <th></th>\n",
       "      <th></th>\n",
       "      <th></th>\n",
       "      <th></th>\n",
       "      <th></th>\n",
       "      <th></th>\n",
       "      <th></th>\n",
       "    </tr>\n",
       "  </thead>\n",
       "  <tbody>\n",
       "    <tr>\n",
       "      <th>2033</th>\n",
       "      <td>NaN</td>\n",
       "      <td>NaN</td>\n",
       "      <td>NaN</td>\n",
       "      <td>NaN</td>\n",
       "      <td>NaN</td>\n",
       "      <td>NaN</td>\n",
       "      <td>NaN</td>\n",
       "      <td>NaN</td>\n",
       "      <td>NaN</td>\n",
       "      <td>NaN</td>\n",
       "      <td>...</td>\n",
       "      <td>NaN</td>\n",
       "      <td>NaN</td>\n",
       "      <td>NaN</td>\n",
       "      <td>NaN</td>\n",
       "      <td>NaN</td>\n",
       "      <td>NaN</td>\n",
       "      <td>NaN</td>\n",
       "      <td>NaN</td>\n",
       "      <td>NaN</td>\n",
       "      <td>NaN</td>\n",
       "    </tr>\n",
       "    <tr>\n",
       "      <th>2110</th>\n",
       "      <td>NaN</td>\n",
       "      <td>NaN</td>\n",
       "      <td>NaN</td>\n",
       "      <td>NaN</td>\n",
       "      <td>NaN</td>\n",
       "      <td>NaN</td>\n",
       "      <td>NaN</td>\n",
       "      <td>NaN</td>\n",
       "      <td>NaN</td>\n",
       "      <td>NaN</td>\n",
       "      <td>...</td>\n",
       "      <td>NaN</td>\n",
       "      <td>NaN</td>\n",
       "      <td>NaN</td>\n",
       "      <td>NaN</td>\n",
       "      <td>NaN</td>\n",
       "      <td>NaN</td>\n",
       "      <td>NaN</td>\n",
       "      <td>NaN</td>\n",
       "      <td>NaN</td>\n",
       "      <td>NaN</td>\n",
       "    </tr>\n",
       "    <tr>\n",
       "      <th>2276</th>\n",
       "      <td>NaN</td>\n",
       "      <td>NaN</td>\n",
       "      <td>NaN</td>\n",
       "      <td>NaN</td>\n",
       "      <td>NaN</td>\n",
       "      <td>NaN</td>\n",
       "      <td>NaN</td>\n",
       "      <td>NaN</td>\n",
       "      <td>NaN</td>\n",
       "      <td>NaN</td>\n",
       "      <td>...</td>\n",
       "      <td>NaN</td>\n",
       "      <td>NaN</td>\n",
       "      <td>NaN</td>\n",
       "      <td>10.0</td>\n",
       "      <td>NaN</td>\n",
       "      <td>NaN</td>\n",
       "      <td>NaN</td>\n",
       "      <td>NaN</td>\n",
       "      <td>NaN</td>\n",
       "      <td>NaN</td>\n",
       "    </tr>\n",
       "    <tr>\n",
       "      <th>4017</th>\n",
       "      <td>NaN</td>\n",
       "      <td>NaN</td>\n",
       "      <td>8.0</td>\n",
       "      <td>NaN</td>\n",
       "      <td>NaN</td>\n",
       "      <td>NaN</td>\n",
       "      <td>NaN</td>\n",
       "      <td>NaN</td>\n",
       "      <td>NaN</td>\n",
       "      <td>NaN</td>\n",
       "      <td>...</td>\n",
       "      <td>NaN</td>\n",
       "      <td>NaN</td>\n",
       "      <td>NaN</td>\n",
       "      <td>NaN</td>\n",
       "      <td>NaN</td>\n",
       "      <td>NaN</td>\n",
       "      <td>NaN</td>\n",
       "      <td>NaN</td>\n",
       "      <td>NaN</td>\n",
       "      <td>NaN</td>\n",
       "    </tr>\n",
       "    <tr>\n",
       "      <th>4385</th>\n",
       "      <td>NaN</td>\n",
       "      <td>NaN</td>\n",
       "      <td>NaN</td>\n",
       "      <td>NaN</td>\n",
       "      <td>NaN</td>\n",
       "      <td>NaN</td>\n",
       "      <td>NaN</td>\n",
       "      <td>NaN</td>\n",
       "      <td>NaN</td>\n",
       "      <td>NaN</td>\n",
       "      <td>...</td>\n",
       "      <td>NaN</td>\n",
       "      <td>NaN</td>\n",
       "      <td>NaN</td>\n",
       "      <td>NaN</td>\n",
       "      <td>NaN</td>\n",
       "      <td>NaN</td>\n",
       "      <td>NaN</td>\n",
       "      <td>NaN</td>\n",
       "      <td>NaN</td>\n",
       "      <td>NaN</td>\n",
       "    </tr>\n",
       "    <tr>\n",
       "      <th>...</th>\n",
       "      <td>...</td>\n",
       "      <td>...</td>\n",
       "      <td>...</td>\n",
       "      <td>...</td>\n",
       "      <td>...</td>\n",
       "      <td>...</td>\n",
       "      <td>...</td>\n",
       "      <td>...</td>\n",
       "      <td>...</td>\n",
       "      <td>...</td>\n",
       "      <td>...</td>\n",
       "      <td>...</td>\n",
       "      <td>...</td>\n",
       "      <td>...</td>\n",
       "      <td>...</td>\n",
       "      <td>...</td>\n",
       "      <td>...</td>\n",
       "      <td>...</td>\n",
       "      <td>...</td>\n",
       "      <td>...</td>\n",
       "      <td>...</td>\n",
       "    </tr>\n",
       "    <tr>\n",
       "      <th>274061</th>\n",
       "      <td>NaN</td>\n",
       "      <td>NaN</td>\n",
       "      <td>NaN</td>\n",
       "      <td>NaN</td>\n",
       "      <td>NaN</td>\n",
       "      <td>NaN</td>\n",
       "      <td>NaN</td>\n",
       "      <td>NaN</td>\n",
       "      <td>NaN</td>\n",
       "      <td>NaN</td>\n",
       "      <td>...</td>\n",
       "      <td>NaN</td>\n",
       "      <td>NaN</td>\n",
       "      <td>NaN</td>\n",
       "      <td>NaN</td>\n",
       "      <td>NaN</td>\n",
       "      <td>NaN</td>\n",
       "      <td>NaN</td>\n",
       "      <td>NaN</td>\n",
       "      <td>NaN</td>\n",
       "      <td>NaN</td>\n",
       "    </tr>\n",
       "    <tr>\n",
       "      <th>274301</th>\n",
       "      <td>NaN</td>\n",
       "      <td>NaN</td>\n",
       "      <td>NaN</td>\n",
       "      <td>NaN</td>\n",
       "      <td>NaN</td>\n",
       "      <td>NaN</td>\n",
       "      <td>NaN</td>\n",
       "      <td>NaN</td>\n",
       "      <td>NaN</td>\n",
       "      <td>NaN</td>\n",
       "      <td>...</td>\n",
       "      <td>NaN</td>\n",
       "      <td>NaN</td>\n",
       "      <td>NaN</td>\n",
       "      <td>NaN</td>\n",
       "      <td>NaN</td>\n",
       "      <td>NaN</td>\n",
       "      <td>NaN</td>\n",
       "      <td>NaN</td>\n",
       "      <td>NaN</td>\n",
       "      <td>NaN</td>\n",
       "    </tr>\n",
       "    <tr>\n",
       "      <th>275970</th>\n",
       "      <td>NaN</td>\n",
       "      <td>NaN</td>\n",
       "      <td>NaN</td>\n",
       "      <td>NaN</td>\n",
       "      <td>NaN</td>\n",
       "      <td>NaN</td>\n",
       "      <td>NaN</td>\n",
       "      <td>NaN</td>\n",
       "      <td>NaN</td>\n",
       "      <td>NaN</td>\n",
       "      <td>...</td>\n",
       "      <td>NaN</td>\n",
       "      <td>NaN</td>\n",
       "      <td>NaN</td>\n",
       "      <td>NaN</td>\n",
       "      <td>NaN</td>\n",
       "      <td>NaN</td>\n",
       "      <td>NaN</td>\n",
       "      <td>NaN</td>\n",
       "      <td>NaN</td>\n",
       "      <td>NaN</td>\n",
       "    </tr>\n",
       "    <tr>\n",
       "      <th>277427</th>\n",
       "      <td>NaN</td>\n",
       "      <td>NaN</td>\n",
       "      <td>NaN</td>\n",
       "      <td>NaN</td>\n",
       "      <td>NaN</td>\n",
       "      <td>NaN</td>\n",
       "      <td>NaN</td>\n",
       "      <td>NaN</td>\n",
       "      <td>NaN</td>\n",
       "      <td>NaN</td>\n",
       "      <td>...</td>\n",
       "      <td>NaN</td>\n",
       "      <td>NaN</td>\n",
       "      <td>NaN</td>\n",
       "      <td>NaN</td>\n",
       "      <td>NaN</td>\n",
       "      <td>NaN</td>\n",
       "      <td>NaN</td>\n",
       "      <td>NaN</td>\n",
       "      <td>NaN</td>\n",
       "      <td>NaN</td>\n",
       "    </tr>\n",
       "    <tr>\n",
       "      <th>278418</th>\n",
       "      <td>NaN</td>\n",
       "      <td>NaN</td>\n",
       "      <td>NaN</td>\n",
       "      <td>NaN</td>\n",
       "      <td>NaN</td>\n",
       "      <td>NaN</td>\n",
       "      <td>NaN</td>\n",
       "      <td>NaN</td>\n",
       "      <td>NaN</td>\n",
       "      <td>NaN</td>\n",
       "      <td>...</td>\n",
       "      <td>NaN</td>\n",
       "      <td>NaN</td>\n",
       "      <td>NaN</td>\n",
       "      <td>NaN</td>\n",
       "      <td>NaN</td>\n",
       "      <td>NaN</td>\n",
       "      <td>NaN</td>\n",
       "      <td>NaN</td>\n",
       "      <td>NaN</td>\n",
       "      <td>NaN</td>\n",
       "    </tr>\n",
       "  </tbody>\n",
       "</table>\n",
       "<p>399 rows × 139 columns</p>\n",
       "</div>"
      ],
      "text/plain": [
       "book_id  0060392452  0060502258  0060915544  0060928336  0060930535  \\\n",
       "user_id                                                               \n",
       "2033            NaN         NaN         NaN         NaN         NaN   \n",
       "2110            NaN         NaN         NaN         NaN         NaN   \n",
       "2276            NaN         NaN         NaN         NaN         NaN   \n",
       "4017            NaN         NaN         8.0         NaN         NaN   \n",
       "4385            NaN         NaN         NaN         NaN         NaN   \n",
       "...             ...         ...         ...         ...         ...   \n",
       "274061          NaN         NaN         NaN         NaN         NaN   \n",
       "274301          NaN         NaN         NaN         NaN         NaN   \n",
       "275970          NaN         NaN         NaN         NaN         NaN   \n",
       "277427          NaN         NaN         NaN         NaN         NaN   \n",
       "278418          NaN         NaN         NaN         NaN         NaN   \n",
       "\n",
       "book_id  0060934417  0060938455  0060959037  0060976845  0060987103  ...  \\\n",
       "user_id                                                              ...   \n",
       "2033            NaN         NaN         NaN         NaN         NaN  ...   \n",
       "2110            NaN         NaN         NaN         NaN         NaN  ...   \n",
       "2276            NaN         NaN         NaN         NaN         NaN  ...   \n",
       "4017            NaN         NaN         NaN         NaN         NaN  ...   \n",
       "4385            NaN         NaN         NaN         NaN         NaN  ...   \n",
       "...             ...         ...         ...         ...         ...  ...   \n",
       "274061          NaN         NaN         NaN         NaN         NaN  ...   \n",
       "274301          NaN         NaN         NaN         NaN         NaN  ...   \n",
       "275970          NaN         NaN         NaN         NaN         NaN  ...   \n",
       "277427          NaN         NaN         NaN         NaN         NaN  ...   \n",
       "278418          NaN         NaN         NaN         NaN         NaN  ...   \n",
       "\n",
       "book_id  0786881852  0804106304  0804114986  0805063897  0812550706  \\\n",
       "user_id                                                               \n",
       "2033            NaN         NaN         NaN         NaN         NaN   \n",
       "2110            NaN         NaN         NaN         NaN         NaN   \n",
       "2276            NaN         NaN         NaN        10.0         NaN   \n",
       "4017            NaN         NaN         NaN         NaN         NaN   \n",
       "4385            NaN         NaN         NaN         NaN         NaN   \n",
       "...             ...         ...         ...         ...         ...   \n",
       "274061          NaN         NaN         NaN         NaN         NaN   \n",
       "274301          NaN         NaN         NaN         NaN         NaN   \n",
       "275970          NaN         NaN         NaN         NaN         NaN   \n",
       "277427          NaN         NaN         NaN         NaN         NaN   \n",
       "278418          NaN         NaN         NaN         NaN         NaN   \n",
       "\n",
       "book_id  0842329129  0971880107  1400034779  1558743669  1573229326  \n",
       "user_id                                                              \n",
       "2033            NaN         NaN         NaN         NaN         NaN  \n",
       "2110            NaN         NaN         NaN         NaN         NaN  \n",
       "2276            NaN         NaN         NaN         NaN         NaN  \n",
       "4017            NaN         NaN         NaN         NaN         NaN  \n",
       "4385            NaN         NaN         NaN         NaN         NaN  \n",
       "...             ...         ...         ...         ...         ...  \n",
       "274061          NaN         NaN         NaN         NaN         NaN  \n",
       "274301          NaN         NaN         NaN         NaN         NaN  \n",
       "275970          NaN         NaN         NaN         NaN         NaN  \n",
       "277427          NaN         NaN         NaN         NaN         NaN  \n",
       "278418          NaN         NaN         NaN         NaN         NaN  \n",
       "\n",
       "[399 rows x 139 columns]"
      ]
     },
     "execution_count": 46,
     "metadata": {},
     "output_type": "execute_result"
    }
   ],
   "source": [
    "rating_matrix"
   ]
  },
  {
   "cell_type": "code",
   "execution_count": 47,
   "metadata": {
    "scrolled": true
   },
   "outputs": [],
   "source": [
    "rating_matrix.fillna(0, inplace = True)"
   ]
  },
  {
   "cell_type": "code",
   "execution_count": 48,
   "metadata": {
    "scrolled": true
   },
   "outputs": [
    {
     "data": {
      "text/html": [
       "<div>\n",
       "<style scoped>\n",
       "    .dataframe tbody tr th:only-of-type {\n",
       "        vertical-align: middle;\n",
       "    }\n",
       "\n",
       "    .dataframe tbody tr th {\n",
       "        vertical-align: top;\n",
       "    }\n",
       "\n",
       "    .dataframe thead th {\n",
       "        text-align: right;\n",
       "    }\n",
       "</style>\n",
       "<table border=\"1\" class=\"dataframe\">\n",
       "  <thead>\n",
       "    <tr style=\"text-align: right;\">\n",
       "      <th>book_id</th>\n",
       "      <th>0060392452</th>\n",
       "      <th>0060502258</th>\n",
       "      <th>0060915544</th>\n",
       "      <th>0060928336</th>\n",
       "      <th>0060930535</th>\n",
       "      <th>0060934417</th>\n",
       "      <th>0060938455</th>\n",
       "      <th>0060959037</th>\n",
       "      <th>0060976845</th>\n",
       "      <th>0060987103</th>\n",
       "      <th>...</th>\n",
       "      <th>0786881852</th>\n",
       "      <th>0804106304</th>\n",
       "      <th>0804114986</th>\n",
       "      <th>0805063897</th>\n",
       "      <th>0812550706</th>\n",
       "      <th>0842329129</th>\n",
       "      <th>0971880107</th>\n",
       "      <th>1400034779</th>\n",
       "      <th>1558743669</th>\n",
       "      <th>1573229326</th>\n",
       "    </tr>\n",
       "    <tr>\n",
       "      <th>user_id</th>\n",
       "      <th></th>\n",
       "      <th></th>\n",
       "      <th></th>\n",
       "      <th></th>\n",
       "      <th></th>\n",
       "      <th></th>\n",
       "      <th></th>\n",
       "      <th></th>\n",
       "      <th></th>\n",
       "      <th></th>\n",
       "      <th></th>\n",
       "      <th></th>\n",
       "      <th></th>\n",
       "      <th></th>\n",
       "      <th></th>\n",
       "      <th></th>\n",
       "      <th></th>\n",
       "      <th></th>\n",
       "      <th></th>\n",
       "      <th></th>\n",
       "      <th></th>\n",
       "    </tr>\n",
       "  </thead>\n",
       "  <tbody>\n",
       "    <tr>\n",
       "      <th>2033</th>\n",
       "      <td>0.0</td>\n",
       "      <td>0.0</td>\n",
       "      <td>0.0</td>\n",
       "      <td>0.0</td>\n",
       "      <td>0.0</td>\n",
       "      <td>0.0</td>\n",
       "      <td>0.0</td>\n",
       "      <td>0.0</td>\n",
       "      <td>0.0</td>\n",
       "      <td>0.0</td>\n",
       "      <td>...</td>\n",
       "      <td>0.0</td>\n",
       "      <td>0.0</td>\n",
       "      <td>0.0</td>\n",
       "      <td>0.0</td>\n",
       "      <td>0.0</td>\n",
       "      <td>0.0</td>\n",
       "      <td>0.0</td>\n",
       "      <td>0.0</td>\n",
       "      <td>0.0</td>\n",
       "      <td>0.0</td>\n",
       "    </tr>\n",
       "    <tr>\n",
       "      <th>2110</th>\n",
       "      <td>0.0</td>\n",
       "      <td>0.0</td>\n",
       "      <td>0.0</td>\n",
       "      <td>0.0</td>\n",
       "      <td>0.0</td>\n",
       "      <td>0.0</td>\n",
       "      <td>0.0</td>\n",
       "      <td>0.0</td>\n",
       "      <td>0.0</td>\n",
       "      <td>0.0</td>\n",
       "      <td>...</td>\n",
       "      <td>0.0</td>\n",
       "      <td>0.0</td>\n",
       "      <td>0.0</td>\n",
       "      <td>0.0</td>\n",
       "      <td>0.0</td>\n",
       "      <td>0.0</td>\n",
       "      <td>0.0</td>\n",
       "      <td>0.0</td>\n",
       "      <td>0.0</td>\n",
       "      <td>0.0</td>\n",
       "    </tr>\n",
       "    <tr>\n",
       "      <th>2276</th>\n",
       "      <td>0.0</td>\n",
       "      <td>0.0</td>\n",
       "      <td>0.0</td>\n",
       "      <td>0.0</td>\n",
       "      <td>0.0</td>\n",
       "      <td>0.0</td>\n",
       "      <td>0.0</td>\n",
       "      <td>0.0</td>\n",
       "      <td>0.0</td>\n",
       "      <td>0.0</td>\n",
       "      <td>...</td>\n",
       "      <td>0.0</td>\n",
       "      <td>0.0</td>\n",
       "      <td>0.0</td>\n",
       "      <td>10.0</td>\n",
       "      <td>0.0</td>\n",
       "      <td>0.0</td>\n",
       "      <td>0.0</td>\n",
       "      <td>0.0</td>\n",
       "      <td>0.0</td>\n",
       "      <td>0.0</td>\n",
       "    </tr>\n",
       "    <tr>\n",
       "      <th>4017</th>\n",
       "      <td>0.0</td>\n",
       "      <td>0.0</td>\n",
       "      <td>8.0</td>\n",
       "      <td>0.0</td>\n",
       "      <td>0.0</td>\n",
       "      <td>0.0</td>\n",
       "      <td>0.0</td>\n",
       "      <td>0.0</td>\n",
       "      <td>0.0</td>\n",
       "      <td>0.0</td>\n",
       "      <td>...</td>\n",
       "      <td>0.0</td>\n",
       "      <td>0.0</td>\n",
       "      <td>0.0</td>\n",
       "      <td>0.0</td>\n",
       "      <td>0.0</td>\n",
       "      <td>0.0</td>\n",
       "      <td>0.0</td>\n",
       "      <td>0.0</td>\n",
       "      <td>0.0</td>\n",
       "      <td>0.0</td>\n",
       "    </tr>\n",
       "    <tr>\n",
       "      <th>4385</th>\n",
       "      <td>0.0</td>\n",
       "      <td>0.0</td>\n",
       "      <td>0.0</td>\n",
       "      <td>0.0</td>\n",
       "      <td>0.0</td>\n",
       "      <td>0.0</td>\n",
       "      <td>0.0</td>\n",
       "      <td>0.0</td>\n",
       "      <td>0.0</td>\n",
       "      <td>0.0</td>\n",
       "      <td>...</td>\n",
       "      <td>0.0</td>\n",
       "      <td>0.0</td>\n",
       "      <td>0.0</td>\n",
       "      <td>0.0</td>\n",
       "      <td>0.0</td>\n",
       "      <td>0.0</td>\n",
       "      <td>0.0</td>\n",
       "      <td>0.0</td>\n",
       "      <td>0.0</td>\n",
       "      <td>0.0</td>\n",
       "    </tr>\n",
       "  </tbody>\n",
       "</table>\n",
       "<p>5 rows × 139 columns</p>\n",
       "</div>"
      ],
      "text/plain": [
       "book_id  0060392452  0060502258  0060915544  0060928336  0060930535  \\\n",
       "user_id                                                               \n",
       "2033            0.0         0.0         0.0         0.0         0.0   \n",
       "2110            0.0         0.0         0.0         0.0         0.0   \n",
       "2276            0.0         0.0         0.0         0.0         0.0   \n",
       "4017            0.0         0.0         8.0         0.0         0.0   \n",
       "4385            0.0         0.0         0.0         0.0         0.0   \n",
       "\n",
       "book_id  0060934417  0060938455  0060959037  0060976845  0060987103  ...  \\\n",
       "user_id                                                              ...   \n",
       "2033            0.0         0.0         0.0         0.0         0.0  ...   \n",
       "2110            0.0         0.0         0.0         0.0         0.0  ...   \n",
       "2276            0.0         0.0         0.0         0.0         0.0  ...   \n",
       "4017            0.0         0.0         0.0         0.0         0.0  ...   \n",
       "4385            0.0         0.0         0.0         0.0         0.0  ...   \n",
       "\n",
       "book_id  0786881852  0804106304  0804114986  0805063897  0812550706  \\\n",
       "user_id                                                               \n",
       "2033            0.0         0.0         0.0         0.0         0.0   \n",
       "2110            0.0         0.0         0.0         0.0         0.0   \n",
       "2276            0.0         0.0         0.0        10.0         0.0   \n",
       "4017            0.0         0.0         0.0         0.0         0.0   \n",
       "4385            0.0         0.0         0.0         0.0         0.0   \n",
       "\n",
       "book_id  0842329129  0971880107  1400034779  1558743669  1573229326  \n",
       "user_id                                                              \n",
       "2033            0.0         0.0         0.0         0.0         0.0  \n",
       "2110            0.0         0.0         0.0         0.0         0.0  \n",
       "2276            0.0         0.0         0.0         0.0         0.0  \n",
       "4017            0.0         0.0         0.0         0.0         0.0  \n",
       "4385            0.0         0.0         0.0         0.0         0.0  \n",
       "\n",
       "[5 rows x 139 columns]"
      ]
     },
     "execution_count": 48,
     "metadata": {},
     "output_type": "execute_result"
    }
   ],
   "source": [
    "rating_matrix.head()"
   ]
  },
  {
   "cell_type": "code",
   "execution_count": 49,
   "metadata": {
    "scrolled": true
   },
   "outputs": [
    {
     "data": {
      "text/html": [
       "<div>\n",
       "<style scoped>\n",
       "    .dataframe tbody tr th:only-of-type {\n",
       "        vertical-align: middle;\n",
       "    }\n",
       "\n",
       "    .dataframe tbody tr th {\n",
       "        vertical-align: top;\n",
       "    }\n",
       "\n",
       "    .dataframe thead th {\n",
       "        text-align: right;\n",
       "    }\n",
       "</style>\n",
       "<table border=\"1\" class=\"dataframe\">\n",
       "  <thead>\n",
       "    <tr style=\"text-align: right;\">\n",
       "      <th>book_id</th>\n",
       "      <th>0060392452</th>\n",
       "      <th>0060502258</th>\n",
       "      <th>0060915544</th>\n",
       "      <th>0060928336</th>\n",
       "      <th>0060930535</th>\n",
       "      <th>0060934417</th>\n",
       "      <th>0060938455</th>\n",
       "      <th>0060959037</th>\n",
       "      <th>0060976845</th>\n",
       "      <th>0060987103</th>\n",
       "      <th>...</th>\n",
       "      <th>0786881852</th>\n",
       "      <th>0804106304</th>\n",
       "      <th>0804114986</th>\n",
       "      <th>0805063897</th>\n",
       "      <th>0812550706</th>\n",
       "      <th>0842329129</th>\n",
       "      <th>0971880107</th>\n",
       "      <th>1400034779</th>\n",
       "      <th>1558743669</th>\n",
       "      <th>1573229326</th>\n",
       "    </tr>\n",
       "    <tr>\n",
       "      <th>user_id</th>\n",
       "      <th></th>\n",
       "      <th></th>\n",
       "      <th></th>\n",
       "      <th></th>\n",
       "      <th></th>\n",
       "      <th></th>\n",
       "      <th></th>\n",
       "      <th></th>\n",
       "      <th></th>\n",
       "      <th></th>\n",
       "      <th></th>\n",
       "      <th></th>\n",
       "      <th></th>\n",
       "      <th></th>\n",
       "      <th></th>\n",
       "      <th></th>\n",
       "      <th></th>\n",
       "      <th></th>\n",
       "      <th></th>\n",
       "      <th></th>\n",
       "      <th></th>\n",
       "    </tr>\n",
       "  </thead>\n",
       "  <tbody>\n",
       "    <tr>\n",
       "      <th>2033</th>\n",
       "      <td>0</td>\n",
       "      <td>0</td>\n",
       "      <td>0</td>\n",
       "      <td>0</td>\n",
       "      <td>0</td>\n",
       "      <td>0</td>\n",
       "      <td>0</td>\n",
       "      <td>0</td>\n",
       "      <td>0</td>\n",
       "      <td>0</td>\n",
       "      <td>...</td>\n",
       "      <td>0</td>\n",
       "      <td>0</td>\n",
       "      <td>0</td>\n",
       "      <td>0</td>\n",
       "      <td>0</td>\n",
       "      <td>0</td>\n",
       "      <td>0</td>\n",
       "      <td>0</td>\n",
       "      <td>0</td>\n",
       "      <td>0</td>\n",
       "    </tr>\n",
       "    <tr>\n",
       "      <th>2110</th>\n",
       "      <td>0</td>\n",
       "      <td>0</td>\n",
       "      <td>0</td>\n",
       "      <td>0</td>\n",
       "      <td>0</td>\n",
       "      <td>0</td>\n",
       "      <td>0</td>\n",
       "      <td>0</td>\n",
       "      <td>0</td>\n",
       "      <td>0</td>\n",
       "      <td>...</td>\n",
       "      <td>0</td>\n",
       "      <td>0</td>\n",
       "      <td>0</td>\n",
       "      <td>0</td>\n",
       "      <td>0</td>\n",
       "      <td>0</td>\n",
       "      <td>0</td>\n",
       "      <td>0</td>\n",
       "      <td>0</td>\n",
       "      <td>0</td>\n",
       "    </tr>\n",
       "    <tr>\n",
       "      <th>2276</th>\n",
       "      <td>0</td>\n",
       "      <td>0</td>\n",
       "      <td>0</td>\n",
       "      <td>0</td>\n",
       "      <td>0</td>\n",
       "      <td>0</td>\n",
       "      <td>0</td>\n",
       "      <td>0</td>\n",
       "      <td>0</td>\n",
       "      <td>0</td>\n",
       "      <td>...</td>\n",
       "      <td>0</td>\n",
       "      <td>0</td>\n",
       "      <td>0</td>\n",
       "      <td>10</td>\n",
       "      <td>0</td>\n",
       "      <td>0</td>\n",
       "      <td>0</td>\n",
       "      <td>0</td>\n",
       "      <td>0</td>\n",
       "      <td>0</td>\n",
       "    </tr>\n",
       "    <tr>\n",
       "      <th>4017</th>\n",
       "      <td>0</td>\n",
       "      <td>0</td>\n",
       "      <td>8</td>\n",
       "      <td>0</td>\n",
       "      <td>0</td>\n",
       "      <td>0</td>\n",
       "      <td>0</td>\n",
       "      <td>0</td>\n",
       "      <td>0</td>\n",
       "      <td>0</td>\n",
       "      <td>...</td>\n",
       "      <td>0</td>\n",
       "      <td>0</td>\n",
       "      <td>0</td>\n",
       "      <td>0</td>\n",
       "      <td>0</td>\n",
       "      <td>0</td>\n",
       "      <td>0</td>\n",
       "      <td>0</td>\n",
       "      <td>0</td>\n",
       "      <td>0</td>\n",
       "    </tr>\n",
       "    <tr>\n",
       "      <th>4385</th>\n",
       "      <td>0</td>\n",
       "      <td>0</td>\n",
       "      <td>0</td>\n",
       "      <td>0</td>\n",
       "      <td>0</td>\n",
       "      <td>0</td>\n",
       "      <td>0</td>\n",
       "      <td>0</td>\n",
       "      <td>0</td>\n",
       "      <td>0</td>\n",
       "      <td>...</td>\n",
       "      <td>0</td>\n",
       "      <td>0</td>\n",
       "      <td>0</td>\n",
       "      <td>0</td>\n",
       "      <td>0</td>\n",
       "      <td>0</td>\n",
       "      <td>0</td>\n",
       "      <td>0</td>\n",
       "      <td>0</td>\n",
       "      <td>0</td>\n",
       "    </tr>\n",
       "  </tbody>\n",
       "</table>\n",
       "<p>5 rows × 139 columns</p>\n",
       "</div>"
      ],
      "text/plain": [
       "book_id  0060392452  0060502258  0060915544  0060928336  0060930535  \\\n",
       "user_id                                                               \n",
       "2033              0           0           0           0           0   \n",
       "2110              0           0           0           0           0   \n",
       "2276              0           0           0           0           0   \n",
       "4017              0           0           8           0           0   \n",
       "4385              0           0           0           0           0   \n",
       "\n",
       "book_id  0060934417  0060938455  0060959037  0060976845  0060987103  ...  \\\n",
       "user_id                                                              ...   \n",
       "2033              0           0           0           0           0  ...   \n",
       "2110              0           0           0           0           0  ...   \n",
       "2276              0           0           0           0           0  ...   \n",
       "4017              0           0           0           0           0  ...   \n",
       "4385              0           0           0           0           0  ...   \n",
       "\n",
       "book_id  0786881852  0804106304  0804114986  0805063897  0812550706  \\\n",
       "user_id                                                               \n",
       "2033              0           0           0           0           0   \n",
       "2110              0           0           0           0           0   \n",
       "2276              0           0           0          10           0   \n",
       "4017              0           0           0           0           0   \n",
       "4385              0           0           0           0           0   \n",
       "\n",
       "book_id  0842329129  0971880107  1400034779  1558743669  1573229326  \n",
       "user_id                                                              \n",
       "2033              0           0           0           0           0  \n",
       "2110              0           0           0           0           0  \n",
       "2276              0           0           0           0           0  \n",
       "4017              0           0           0           0           0  \n",
       "4385              0           0           0           0           0  \n",
       "\n",
       "[5 rows x 139 columns]"
      ]
     },
     "execution_count": 49,
     "metadata": {},
     "output_type": "execute_result"
    }
   ],
   "source": [
    "rating_matrix = rating_matrix.astype('int32')\n",
    "\n",
    "rating_matrix.head()"
   ]
  },
  {
   "cell_type": "code",
   "execution_count": 50,
   "metadata": {
    "scrolled": true
   },
   "outputs": [
    {
     "name": "stdout",
     "output_type": "stream",
     "text": [
      "sparsity of the rating matrix is 54.4400569769748 %\n"
     ]
    }
   ],
   "source": [
    "print('sparsity of the rating matrix is {} %'.format((1-(rating_matrix.sum().sum())/rating_matrix.size)*100))"
   ]
  },
  {
   "cell_type": "code",
   "execution_count": 51,
   "metadata": {
    "scrolled": true
   },
   "outputs": [],
   "source": [
    "from sklearn.neighbors import NearestNeighbors"
   ]
  },
  {
   "cell_type": "code",
   "execution_count": 52,
   "metadata": {
    "scrolled": true
   },
   "outputs": [],
   "source": [
    "def similar_users(user_id, ratings):\n",
    "    \n",
    "#     user_ind = ratings.index.get_loc(user_id)\n",
    "    NN = NearestNeighbors()\n",
    "    NN.fit(ratings)\n",
    "    distances, indices = NN.kneighbors(ratings.loc[user_id, :].values.reshape(1, -1), n_neighbors = 10)\n",
    "    \n",
    "    similarities = 1 - distances.flatten()\n",
    "    return(similarities.flatten(), indices.flatten())"
   ]
  },
  {
   "cell_type": "code",
   "execution_count": 53,
   "metadata": {
    "scrolled": true
   },
   "outputs": [
    {
     "name": "stderr",
     "output_type": "stream",
     "text": [
      "F:\\Anaconda\\lib\\site-packages\\sklearn\\base.py:451: UserWarning: X does not have valid feature names, but NearestNeighbors was fitted with feature names\n",
      "  \"X does not have valid feature names, but\"\n"
     ]
    },
    {
     "data": {
      "text/plain": [
       "(array([  1.        ,  -4.47722558, -10.40175425, -13.52583905,\n",
       "        -15.55294536, -15.91153453, -16.43559577, -17.70828693,\n",
       "        -17.70828693, -18.23538406]),\n",
       " array([  0, 108, 257, 245, 341,  75, 317, 189, 349,  97], dtype=int64))"
      ]
     },
     "execution_count": 53,
     "metadata": {},
     "output_type": "execute_result"
    }
   ],
   "source": [
    "similar_users(2033, rating_matrix)"
   ]
  },
  {
   "cell_type": "code",
   "execution_count": 54,
   "metadata": {
    "scrolled": true
   },
   "outputs": [],
   "source": [
    "def predict_rating(user_id, item_id, ratings):\n",
    "    \n",
    "    similarities, indices = similar_users(user_id, ratings)\n",
    "    \n",
    "    wtd_sum = 0\n",
    "    \n",
    "    item_ind = rating_matrix.columns.get_loc(item_id)\n",
    "    user_ind = rating_matrix.index.get_loc(user_id)\n",
    "    \n",
    "    for i in range(len(indices)):\n",
    "        if indices[i] == user_ind:\n",
    "            continue\n",
    "        else:\n",
    "            wtd_sum = wtd_sum + ((ratings.iloc[indices[i], item_ind] - rating_matrix.iloc[indices[i]].mean())*similarities[i])\n",
    "    \n",
    "    wtd_sum = wtd_sum + rating_matrix.iloc[user_ind].mean()\n",
    "    predicted_rating = wtd_sum/(similarities.sum() - 1)\n",
    "    \n",
    "    if predicted_rating < 0:\n",
    "        predicted_rating = 0\n",
    "    elif predicted_rating > 10:\n",
    "        predicted_rating = 10\n",
    "        \n",
    "#     print(predicted_rating)\n",
    "    return(predicted_rating)"
   ]
  },
  {
   "cell_type": "code",
   "execution_count": 55,
   "metadata": {
    "scrolled": true
   },
   "outputs": [
    {
     "name": "stderr",
     "output_type": "stream",
     "text": [
      "F:\\Anaconda\\lib\\site-packages\\sklearn\\base.py:451: UserWarning: X does not have valid feature names, but NearestNeighbors was fitted with feature names\n",
      "  \"X does not have valid feature names, but\"\n"
     ]
    },
    {
     "data": {
      "text/plain": [
       "0"
      ]
     },
     "execution_count": 55,
     "metadata": {},
     "output_type": "execute_result"
    }
   ],
   "source": [
    "predict_rating(2033, '0060392452', rating_matrix)"
   ]
  },
  {
   "cell_type": "markdown",
   "metadata": {},
   "source": [
    "## To check predicted rating for specific user_id and book_id"
   ]
  },
  {
   "cell_type": "code",
   "execution_count": 56,
   "metadata": {
    "scrolled": true
   },
   "outputs": [
    {
     "name": "stdout",
     "output_type": "stream",
     "text": [
      "8.172059003487867\n"
     ]
    },
    {
     "name": "stderr",
     "output_type": "stream",
     "text": [
      "F:\\Anaconda\\lib\\site-packages\\sklearn\\base.py:451: UserWarning: X does not have valid feature names, but NearestNeighbors was fitted with feature names\n",
      "  \"X does not have valid feature names, but\"\n"
     ]
    }
   ],
   "source": [
    "NN = NearestNeighbors()\n",
    "NN.fit(rating_matrix)\n",
    "distances, indices = NN.kneighbors(rating_matrix.loc[2033, :].values.reshape(1, -1), n_neighbors = 10)\n",
    "    \n",
    "similarities = 1 - distances.flatten()\n",
    "indices = indices.flatten()\n",
    "\n",
    "wtd_sum = 0\n",
    "    \n",
    "item_ind = rating_matrix.columns.get_loc('043935806X')\n",
    "user_ind = rating_matrix.index.get_loc(2033)    \n",
    "    \n",
    "for i in range(len(indices)):\n",
    "    if indices[i] == user_ind:\n",
    "        continue\n",
    "    else:\n",
    "        wtd_sum = wtd_sum + ((rating_matrix.iloc[indices[i], item_ind] - rating_matrix.iloc[indices[i]].mean())*similarities[i])\n",
    "\n",
    "wtd_sum = rating_matrix.iloc[user_ind].mean() + wtd_sum\n",
    "predicted_rating = wtd_sum/(similarities.sum() - 1)\n",
    "\n",
    "if predicted_rating < 0:\n",
    "    predicted_rating = 0\n",
    "elif predicted_rating > 10:\n",
    "    predicted_rating = 10\n",
    "        \n",
    "print(predicted_rating)"
   ]
  },
  {
   "cell_type": "markdown",
   "metadata": {},
   "source": [
    "## To check predicted rating of specific user_id and all book_id in the rating_matrix"
   ]
  },
  {
   "cell_type": "code",
   "execution_count": 57,
   "metadata": {
    "scrolled": true
   },
   "outputs": [
    {
     "name": "stderr",
     "output_type": "stream",
     "text": [
      "F:\\Anaconda\\lib\\site-packages\\sklearn\\base.py:451: UserWarning: X does not have valid feature names, but NearestNeighbors was fitted with feature names\n",
      "  \"X does not have valid feature names, but\"\n"
     ]
    },
    {
     "name": "stdout",
     "output_type": "stream",
     "text": [
      "0 0\n",
      "0 1\n",
      "0 2\n",
      "0 3\n",
      "0 4\n",
      "0 5\n",
      "0 6\n",
      "0 7\n",
      "0 8\n",
      "0 9\n",
      "0 10\n",
      "0 11\n",
      "0 12\n",
      "0.6979188417152138 13\n",
      "1.7222211949191366 14\n",
      "0 15\n",
      "0 16\n",
      "0 17\n",
      "0 18\n",
      "0 19\n",
      "0 20\n",
      "0 21\n",
      "0 22\n",
      "0 23\n",
      "0 24\n",
      "0.7590577513913199 25\n",
      "0 26\n",
      "0 27\n",
      "0 28\n",
      "0 29\n",
      "0 30\n",
      "0 31\n",
      "0 32\n",
      "0 33\n",
      "0 34\n",
      "0 35\n",
      "0.9218205962424153 36\n",
      "0 37\n",
      "0 38\n",
      "0 39\n",
      "0 40\n",
      "0 41\n",
      "0 42\n",
      "0 43\n",
      "0 44\n",
      "0 45\n",
      "0 46\n",
      "0 47\n",
      "0 48\n",
      "0 49\n",
      "0 50\n",
      "0 51\n",
      "0 52\n",
      "0 53\n",
      "0 54\n",
      "0 55\n",
      "0.5424116894420661 56\n",
      "0 57\n",
      "0 58\n",
      "0 59\n",
      "0 60\n",
      "0 61\n",
      "0 62\n",
      "0 63\n",
      "0 64\n",
      "0 65\n",
      "0 66\n",
      "4.946082756039669 67\n",
      "0 68\n",
      "5.283806192035667 69\n",
      "2.2866771769031065 70\n",
      "5.707497312378863 71\n",
      "0.7590577513913199 72\n",
      "8.172059003487867 73\n",
      "0 74\n",
      "0 75\n",
      "0 76\n",
      "0 77\n",
      "0 78\n",
      "0 79\n",
      "0 80\n",
      "0 81\n",
      "0 82\n",
      "0 83\n",
      "0 84\n",
      "0 85\n",
      "0 86\n",
      "0 87\n",
      "0.28947241824183323 88\n",
      "0 89\n",
      "0 90\n",
      "0 91\n",
      "0 92\n",
      "0 93\n",
      "0 94\n",
      "0 95\n",
      "0 96\n",
      "0 97\n",
      "0 98\n",
      "0 99\n",
      "0 100\n",
      "0 101\n",
      "0 102\n",
      "0 103\n",
      "0 104\n",
      "0 105\n",
      "0 106\n",
      "0 107\n",
      "0 108\n",
      "0 109\n",
      "0 110\n",
      "6.3739087360028135 111\n",
      "0.853901867816932 112\n",
      "0 113\n",
      "0 114\n",
      "0 115\n",
      "0.6145463423017957 116\n",
      "0 117\n",
      "0 118\n",
      "0 119\n",
      "0 120\n",
      "0 121\n",
      "0 122\n",
      "0 123\n",
      "0 124\n",
      "0 125\n",
      "0 126\n",
      "0 127\n",
      "0 128\n",
      "0.5938393815678175 129\n",
      "0 130\n",
      "0.9218205962424153 131\n",
      "0 132\n",
      "0 133\n",
      "0 134\n",
      "0 135\n",
      "0 136\n",
      "0 137\n",
      "0 138\n"
     ]
    }
   ],
   "source": [
    "NN = NearestNeighbors()\n",
    "NN.fit(rating_matrix)\n",
    "distances, indices = NN.kneighbors(rating_matrix.loc[2033, :].values.reshape(1, -1), n_neighbors = 10)\n",
    "    \n",
    "similarities = 1 - distances.flatten()\n",
    "indices = indices.flatten()\n",
    "\n",
    "user_ind = rating_matrix.index.get_loc(2033)\n",
    "\n",
    "for j in rating_matrix.columns:\n",
    "    wtd_sum = 0\n",
    "    item_ind = rating_matrix.columns.get_loc(j)\n",
    "    for i in range(len(indices)):\n",
    "        if indices[i] == user_ind:\n",
    "            continue\n",
    "        else:\n",
    "#             wtd_sum = wtd_sum + ((rating_matrix.iloc[indices[i], item_ind])*similarities[i])\n",
    "\n",
    "#             when optimistic and passimistic users influence on predicted rating is considered\n",
    "            wtd_sum = wtd_sum + ((rating_matrix.iloc[indices[i], item_ind] - rating_matrix.iloc[indices[i]].mean())*similarities[i])\n",
    "    \n",
    "    wtd_sum = rating_matrix.iloc[user_ind].mean() + wtd_sum\n",
    "    predicted_rating = wtd_sum/(similarities.sum() - 1)\n",
    "\n",
    "    if predicted_rating < 0:\n",
    "        predicted_rating = 0\n",
    "    elif predicted_rating > 10:\n",
    "        predicted_rating = 10\n",
    "        \n",
    "    print(predicted_rating, item_ind)"
   ]
  },
  {
   "cell_type": "code",
   "execution_count": 58,
   "metadata": {
    "scrolled": true
   },
   "outputs": [],
   "source": [
    "# to ignore userwarnings\n",
    "\n",
    "import warnings\n",
    "warnings.filterwarnings('ignore')"
   ]
  },
  {
   "cell_type": "markdown",
   "metadata": {},
   "source": [
    "## To print user_id, top 10 predicted rating and book_id for all users"
   ]
  },
  {
   "cell_type": "code",
   "execution_count": 59,
   "metadata": {
    "scrolled": true
   },
   "outputs": [],
   "source": [
    "# def topn_recommendation(user_id, rating_matrix):\n",
    "    \n",
    "#     rating_prediction = []\n",
    "#     for i in rating_matrix.columns:\n",
    "#         rating_prediction.append(predict_rating(user_id, i,  rating_matrix))\n",
    "#     return(rating_prediction)\n",
    "\n",
    "# for j in rating_matrix.index:\n",
    "#     x = topn_recommendation(j, rating_matrix)\n",
    "#     y = np.argsort(x)[::-1][:10]\n",
    "    \n",
    "#     print(j, '\\n', sorted(x, reverse = True)[:10], '\\n', rating_matrix.columns[y].values, '\\n\\n')"
   ]
  },
  {
   "cell_type": "code",
   "execution_count": 60,
   "metadata": {
    "scrolled": true
   },
   "outputs": [],
   "source": [
    "def topn_recommendation(user_id, rating_matrix):\n",
    "    \n",
    "    predicted_rating_all_items = []\n",
    "    for i in rating_matrix.columns:\n",
    "        predicted_rating_all_items.append(predict_rating(user_id, i,  rating_matrix))\n",
    "   \n",
    "#     predicted_rating_top10 = sorted(predicted_rating_all_items, reverse = True)[:10]\n",
    "    top_10_recomm_index = np.argsort(predicted_rating_all_items)[::-1][:10]\n",
    "    top_10_recomm_bookid = rating_matrix.columns[top_10_recomm_index].values\n",
    "    top_10_recomm_title = df2[df2['book_id'].isin(top_10_recomm_bookid.tolist())]['title'].values\n",
    "    \n",
    "    return(top_10_recomm_title.tolist())"
   ]
  },
  {
   "cell_type": "code",
   "execution_count": 61,
   "metadata": {},
   "outputs": [
    {
     "data": {
      "text/plain": [
       "['The Tao of Pooh',\n",
       " 'Angels &amp; Demons',\n",
       " 'The Perfect Storm : A True Story of Men Against the Sea',\n",
       " 'Hannibal',\n",
       " \"She's Come Undone (Oprah's Book Club)\",\n",
       " 'Skipping Christmas',\n",
       " 'Cold Mountain : A Novel',\n",
       " 'Watership Down',\n",
       " 'The Runaway Jury',\n",
       " 'Harry Potter and the Goblet of Fire (Book 4)']"
      ]
     },
     "execution_count": 61,
     "metadata": {},
     "output_type": "execute_result"
    }
   ],
   "source": [
    "topn_recommendation(2276, rating_matrix)"
   ]
  },
  {
   "cell_type": "markdown",
   "metadata": {},
   "source": [
    "# Collaborative Filtering with LightFM"
   ]
  },
  {
   "cell_type": "code",
   "execution_count": 62,
   "metadata": {},
   "outputs": [
    {
     "name": "stdout",
     "output_type": "stream",
     "text": [
      "3305\n",
      "2129\n"
     ]
    },
    {
     "data": {
      "text/html": [
       "<div>\n",
       "<style scoped>\n",
       "    .dataframe tbody tr th:only-of-type {\n",
       "        vertical-align: middle;\n",
       "    }\n",
       "\n",
       "    .dataframe tbody tr th {\n",
       "        vertical-align: top;\n",
       "    }\n",
       "\n",
       "    .dataframe thead th {\n",
       "        text-align: right;\n",
       "    }\n",
       "</style>\n",
       "<table border=\"1\" class=\"dataframe\">\n",
       "  <thead>\n",
       "    <tr style=\"text-align: right;\">\n",
       "      <th></th>\n",
       "      <th>user_id</th>\n",
       "      <th>book_id</th>\n",
       "      <th>book_rating</th>\n",
       "    </tr>\n",
       "  </thead>\n",
       "  <tbody>\n",
       "    <tr>\n",
       "      <th>913</th>\n",
       "      <td>277157</td>\n",
       "      <td>0316154059</td>\n",
       "      <td>5</td>\n",
       "    </tr>\n",
       "    <tr>\n",
       "      <th>917</th>\n",
       "      <td>277157</td>\n",
       "      <td>0345452550</td>\n",
       "      <td>7</td>\n",
       "    </tr>\n",
       "    <tr>\n",
       "      <th>936</th>\n",
       "      <td>277157</td>\n",
       "      <td>0399148639</td>\n",
       "      <td>6</td>\n",
       "    </tr>\n",
       "    <tr>\n",
       "      <th>954</th>\n",
       "      <td>277157</td>\n",
       "      <td>0671024094</td>\n",
       "      <td>7</td>\n",
       "    </tr>\n",
       "    <tr>\n",
       "      <th>955</th>\n",
       "      <td>277157</td>\n",
       "      <td>0679450408</td>\n",
       "      <td>6</td>\n",
       "    </tr>\n",
       "  </tbody>\n",
       "</table>\n",
       "</div>"
      ],
      "text/plain": [
       "     user_id     book_id  book_rating\n",
       "913   277157  0316154059            5\n",
       "917   277157  0345452550            7\n",
       "936   277157  0399148639            6\n",
       "954   277157  0671024094            7\n",
       "955   277157  0679450408            6"
      ]
     },
     "execution_count": 62,
     "metadata": {},
     "output_type": "execute_result"
    }
   ],
   "source": [
    "count1 = df4_explicit['user_id'].value_counts()\n",
    "\n",
    "count2 = df4_explicit['book_id'].value_counts()\n",
    "\n",
    "\n",
    "user20 = count1[count1 >= 20].index\n",
    "print(len(user20))\n",
    "\n",
    "# books which have recieved atleast 20 ratings in count\n",
    "\n",
    "book20 = count2[count2 >= 20].index\n",
    "print(len(book20))\n",
    "\n",
    "\n",
    "\n",
    "# books which have recieved atleast 100 ratings in count\n",
    "\n",
    "df4_explicit_20 = df4_explicit[(df4_explicit['user_id'].isin(user20)) & (df4_explicit['book_id'].isin(book20))]\n",
    "\n",
    "df4_explicit_20.head()\n",
    "\n",
    "# Making user-book rating matrix\n",
    "\n",
    "# rating_matrix = df4_explicit_20.pivot(index = 'user_id', columns = 'book_id', values = 'book_rating')\n",
    "\n",
    "# rating_matrix.fillna(0, inplace = True)\n",
    "\n",
    "# rating_matrix = rating_matrix.astype('int32')\n",
    "\n",
    "# rating_matrix.head()\n",
    "\n",
    "# print('sparsity of the rating matrix is {} %'.format((1-(rating_matrix.sum().sum())/rating_matrix.size)*100))\n",
    "\n"
   ]
  },
  {
   "cell_type": "code",
   "execution_count": 63,
   "metadata": {},
   "outputs": [],
   "source": [
    "from sklearn.preprocessing import LabelEncoder\n",
    "from scipy.sparse import coo_matrix"
   ]
  },
  {
   "cell_type": "code",
   "execution_count": 64,
   "metadata": {},
   "outputs": [],
   "source": [
    "# Function to give train and test coordinate matrices and train matrix in raw form (df3 form)\n",
    "\n",
    "def train_test_rawtrain(df4_explicit_20, train_ratio):\n",
    "    \n",
    "    rows_in_split1 = int(df4_explicit_20.shape[0]*train_ratio)\n",
    "    \n",
    "    df_train = df4_explicit_20.iloc[:rows_in_split1]\n",
    "    df_test = df4_explicit_20.iloc[rows_in_split1:]\n",
    "    \n",
    "    df_test = df_test[(df_test['user_id'].isin(set(df_train['user_id']))) & (df_test['book_id'].isin(set(df_train['book_id'])))]\n",
    "    \n",
    "    \n",
    "    df_train_trans = dict()\n",
    "    df_test_trans = dict()\n",
    "    \n",
    "    for i in ['user_id', 'book_id']:\n",
    "        cat_encode = LabelEncoder()\n",
    "        df_train_trans[i] = cat_encode.fit_transform(df_train[i].values)\n",
    "        df_test_trans[i] = cat_encode.transform(df_test[i].values)\n",
    "      \n",
    "    \n",
    "    ratings = dict()\n",
    "    cat_encode = LabelEncoder()\n",
    "    ratings['train'] = cat_encode.fit_transform(df_train['book_rating'])\n",
    "    ratings['test'] = cat_encode.transform(df_test['book_rating'])\n",
    "    \n",
    "    n_users = len(set(df_train_trans['user_id']))\n",
    "    n_books = len(set(df_train_trans['book_id']))\n",
    "    \n",
    "    train = coo_matrix((ratings['train'], (df_train_trans['user_id'], df_train_trans['book_id'])), shape = (n_users, n_books))\n",
    "    test = coo_matrix((ratings['test'], (df_test_trans['user_id'], df_test_trans['book_id'])), shape = (n_users, n_books))      \n",
    "    \n",
    "    return(train, test, df_train)   "
   ]
  },
  {
   "cell_type": "code",
   "execution_count": 65,
   "metadata": {},
   "outputs": [],
   "source": [
    "train, test, train_raw = train_test_rawtrain(df4_explicit_20, 0.70)"
   ]
  },
  {
   "cell_type": "code",
   "execution_count": 66,
   "metadata": {},
   "outputs": [],
   "source": [
    "from lightfm import LightFM"
   ]
  },
  {
   "cell_type": "code",
   "execution_count": 67,
   "metadata": {},
   "outputs": [],
   "source": [
    "lfm = LightFM(no_components = 100, learning_rate = 0.025, loss = 'warp')"
   ]
  },
  {
   "cell_type": "code",
   "execution_count": 68,
   "metadata": {},
   "outputs": [
    {
     "data": {
      "text/plain": [
       "<lightfm.lightfm.LightFM at 0x26960fe52c8>"
      ]
     },
     "execution_count": 68,
     "metadata": {},
     "output_type": "execute_result"
    }
   ],
   "source": [
    "lfm.fit(train, epochs = 10, num_threads = 4)"
   ]
  },
  {
   "cell_type": "code",
   "execution_count": 69,
   "metadata": {},
   "outputs": [],
   "source": [
    "from lightfm.evaluation import auc_score"
   ]
  },
  {
   "cell_type": "code",
   "execution_count": 70,
   "metadata": {},
   "outputs": [
    {
     "data": {
      "text/plain": [
       "0.87557995"
      ]
     },
     "execution_count": 70,
     "metadata": {},
     "output_type": "execute_result"
    }
   ],
   "source": [
    "auc_score(lfm, train).mean()"
   ]
  },
  {
   "cell_type": "code",
   "execution_count": 71,
   "metadata": {},
   "outputs": [
    {
     "data": {
      "text/plain": [
       "0.58846337"
      ]
     },
     "execution_count": 71,
     "metadata": {},
     "output_type": "execute_result"
    }
   ],
   "source": [
    "auc_score(lfm, test).mean()"
   ]
  },
  {
   "cell_type": "code",
   "execution_count": 72,
   "metadata": {},
   "outputs": [],
   "source": [
    "train_val = train_raw.pivot(index = 'user_id', columns = 'book_id', values = 'book_rating')"
   ]
  },
  {
   "cell_type": "code",
   "execution_count": 73,
   "metadata": {},
   "outputs": [],
   "source": [
    "train_val.fillna(0, inplace = True)\n",
    "train_val = train_val.astype('int')"
   ]
  },
  {
   "cell_type": "code",
   "execution_count": 74,
   "metadata": {},
   "outputs": [
    {
     "data": {
      "text/html": [
       "<div>\n",
       "<style scoped>\n",
       "    .dataframe tbody tr th:only-of-type {\n",
       "        vertical-align: middle;\n",
       "    }\n",
       "\n",
       "    .dataframe tbody tr th {\n",
       "        vertical-align: top;\n",
       "    }\n",
       "\n",
       "    .dataframe thead th {\n",
       "        text-align: right;\n",
       "    }\n",
       "</style>\n",
       "<table border=\"1\" class=\"dataframe\">\n",
       "  <thead>\n",
       "    <tr style=\"text-align: right;\">\n",
       "      <th>book_id</th>\n",
       "      <th>000649840X</th>\n",
       "      <th>0007110928</th>\n",
       "      <th>0020199600</th>\n",
       "      <th>0020442203</th>\n",
       "      <th>002542730X</th>\n",
       "      <th>0028604199</th>\n",
       "      <th>006000438X</th>\n",
       "      <th>0060008032</th>\n",
       "      <th>0060008776</th>\n",
       "      <th>006001203X</th>\n",
       "      <th>...</th>\n",
       "      <th>3548359698</th>\n",
       "      <th>3596150655</th>\n",
       "      <th>3596259924</th>\n",
       "      <th>3746614007</th>\n",
       "      <th>8408043641</th>\n",
       "      <th>8445071416</th>\n",
       "      <th>8495618605</th>\n",
       "      <th>8806142100</th>\n",
       "      <th>8807813025</th>\n",
       "      <th>8845205118</th>\n",
       "    </tr>\n",
       "    <tr>\n",
       "      <th>user_id</th>\n",
       "      <th></th>\n",
       "      <th></th>\n",
       "      <th></th>\n",
       "      <th></th>\n",
       "      <th></th>\n",
       "      <th></th>\n",
       "      <th></th>\n",
       "      <th></th>\n",
       "      <th></th>\n",
       "      <th></th>\n",
       "      <th></th>\n",
       "      <th></th>\n",
       "      <th></th>\n",
       "      <th></th>\n",
       "      <th></th>\n",
       "      <th></th>\n",
       "      <th></th>\n",
       "      <th></th>\n",
       "      <th></th>\n",
       "      <th></th>\n",
       "      <th></th>\n",
       "    </tr>\n",
       "  </thead>\n",
       "  <tbody>\n",
       "    <tr>\n",
       "      <th>242</th>\n",
       "      <td>0</td>\n",
       "      <td>0</td>\n",
       "      <td>0</td>\n",
       "      <td>0</td>\n",
       "      <td>0</td>\n",
       "      <td>0</td>\n",
       "      <td>0</td>\n",
       "      <td>0</td>\n",
       "      <td>0</td>\n",
       "      <td>0</td>\n",
       "      <td>...</td>\n",
       "      <td>0</td>\n",
       "      <td>0</td>\n",
       "      <td>0</td>\n",
       "      <td>0</td>\n",
       "      <td>0</td>\n",
       "      <td>0</td>\n",
       "      <td>0</td>\n",
       "      <td>0</td>\n",
       "      <td>0</td>\n",
       "      <td>0</td>\n",
       "    </tr>\n",
       "    <tr>\n",
       "      <th>254</th>\n",
       "      <td>0</td>\n",
       "      <td>0</td>\n",
       "      <td>0</td>\n",
       "      <td>0</td>\n",
       "      <td>0</td>\n",
       "      <td>0</td>\n",
       "      <td>0</td>\n",
       "      <td>0</td>\n",
       "      <td>0</td>\n",
       "      <td>0</td>\n",
       "      <td>...</td>\n",
       "      <td>0</td>\n",
       "      <td>0</td>\n",
       "      <td>0</td>\n",
       "      <td>0</td>\n",
       "      <td>0</td>\n",
       "      <td>0</td>\n",
       "      <td>0</td>\n",
       "      <td>0</td>\n",
       "      <td>0</td>\n",
       "      <td>0</td>\n",
       "    </tr>\n",
       "    <tr>\n",
       "      <th>507</th>\n",
       "      <td>0</td>\n",
       "      <td>0</td>\n",
       "      <td>0</td>\n",
       "      <td>0</td>\n",
       "      <td>0</td>\n",
       "      <td>0</td>\n",
       "      <td>0</td>\n",
       "      <td>0</td>\n",
       "      <td>0</td>\n",
       "      <td>0</td>\n",
       "      <td>...</td>\n",
       "      <td>0</td>\n",
       "      <td>0</td>\n",
       "      <td>0</td>\n",
       "      <td>0</td>\n",
       "      <td>0</td>\n",
       "      <td>0</td>\n",
       "      <td>0</td>\n",
       "      <td>0</td>\n",
       "      <td>0</td>\n",
       "      <td>0</td>\n",
       "    </tr>\n",
       "    <tr>\n",
       "      <th>638</th>\n",
       "      <td>0</td>\n",
       "      <td>0</td>\n",
       "      <td>0</td>\n",
       "      <td>0</td>\n",
       "      <td>0</td>\n",
       "      <td>0</td>\n",
       "      <td>0</td>\n",
       "      <td>0</td>\n",
       "      <td>0</td>\n",
       "      <td>0</td>\n",
       "      <td>...</td>\n",
       "      <td>0</td>\n",
       "      <td>0</td>\n",
       "      <td>0</td>\n",
       "      <td>0</td>\n",
       "      <td>0</td>\n",
       "      <td>0</td>\n",
       "      <td>0</td>\n",
       "      <td>0</td>\n",
       "      <td>0</td>\n",
       "      <td>0</td>\n",
       "    </tr>\n",
       "    <tr>\n",
       "      <th>643</th>\n",
       "      <td>0</td>\n",
       "      <td>0</td>\n",
       "      <td>0</td>\n",
       "      <td>0</td>\n",
       "      <td>0</td>\n",
       "      <td>0</td>\n",
       "      <td>0</td>\n",
       "      <td>0</td>\n",
       "      <td>0</td>\n",
       "      <td>0</td>\n",
       "      <td>...</td>\n",
       "      <td>0</td>\n",
       "      <td>0</td>\n",
       "      <td>0</td>\n",
       "      <td>0</td>\n",
       "      <td>0</td>\n",
       "      <td>0</td>\n",
       "      <td>0</td>\n",
       "      <td>0</td>\n",
       "      <td>0</td>\n",
       "      <td>0</td>\n",
       "    </tr>\n",
       "  </tbody>\n",
       "</table>\n",
       "<p>5 rows × 2129 columns</p>\n",
       "</div>"
      ],
      "text/plain": [
       "book_id  000649840X  0007110928  0020199600  0020442203  002542730X  \\\n",
       "user_id                                                               \n",
       "242               0           0           0           0           0   \n",
       "254               0           0           0           0           0   \n",
       "507               0           0           0           0           0   \n",
       "638               0           0           0           0           0   \n",
       "643               0           0           0           0           0   \n",
       "\n",
       "book_id  0028604199  006000438X  0060008032  0060008776  006001203X  ...  \\\n",
       "user_id                                                              ...   \n",
       "242               0           0           0           0           0  ...   \n",
       "254               0           0           0           0           0  ...   \n",
       "507               0           0           0           0           0  ...   \n",
       "638               0           0           0           0           0  ...   \n",
       "643               0           0           0           0           0  ...   \n",
       "\n",
       "book_id  3548359698  3596150655  3596259924  3746614007  8408043641  \\\n",
       "user_id                                                               \n",
       "242               0           0           0           0           0   \n",
       "254               0           0           0           0           0   \n",
       "507               0           0           0           0           0   \n",
       "638               0           0           0           0           0   \n",
       "643               0           0           0           0           0   \n",
       "\n",
       "book_id  8445071416  8495618605  8806142100  8807813025  8845205118  \n",
       "user_id                                                              \n",
       "242               0           0           0           0           0  \n",
       "254               0           0           0           0           0  \n",
       "507               0           0           0           0           0  \n",
       "638               0           0           0           0           0  \n",
       "643               0           0           0           0           0  \n",
       "\n",
       "[5 rows x 2129 columns]"
      ]
     },
     "execution_count": 74,
     "metadata": {},
     "output_type": "execute_result"
    }
   ],
   "source": [
    "train_val.head()"
   ]
  },
  {
   "cell_type": "code",
   "execution_count": 75,
   "metadata": {},
   "outputs": [
    {
     "data": {
      "text/plain": [
       "(2179, 2129)"
      ]
     },
     "execution_count": 75,
     "metadata": {},
     "output_type": "execute_result"
    }
   ],
   "source": [
    "train_val.shape"
   ]
  },
  {
   "cell_type": "code",
   "execution_count": 76,
   "metadata": {},
   "outputs": [],
   "source": [
    "# Function to give user ({user_id : counter}) and book ({book_id : title}) dictionary\n",
    "\n",
    "def user_book_dict(train_val, df2):\n",
    "    \n",
    "    user_ids = list(train_val.index)\n",
    "    user_dict = dict()\n",
    "    c = 0\n",
    "    \n",
    "    for i in user_ids:\n",
    "        user_dict[i] = c\n",
    "        c = c+1\n",
    "        \n",
    "    book_dict = dict()\n",
    "    for i in range(df2.shape[0]):\n",
    "        book_dict[df2.loc[i, 'book_id']] = df2.loc[i, 'title']\n",
    "        \n",
    "#     or use below to create book dictionary\n",
    "#     book_dict = dict(zip(df2['book_id'].values, df2['title'].values))\n",
    "        \n",
    "    return(user_dict, book_dict)"
   ]
  },
  {
   "cell_type": "code",
   "execution_count": 77,
   "metadata": {},
   "outputs": [],
   "source": [
    "user_dict, book_dict = user_book_dict(train_val, df2)"
   ]
  },
  {
   "cell_type": "code",
   "execution_count": 92,
   "metadata": {},
   "outputs": [],
   "source": [
    "# Function to give liked books and recommended books for a specific user\n",
    "# threshold can be used to control the know books by user\n",
    "\n",
    "def topm_recommendation(user_id, lfm, train_val, user_dict, book_dict, threshold = 0):\n",
    "    \n",
    "    n_users, n_books =  train_val.shape\n",
    "    \n",
    "    user = user_dict[user_id]\n",
    "    \n",
    "    scores = pd.Series(lfm.predict(user, np.arange(n_books)))\n",
    "    scores.index = train_val.columns\n",
    "    \n",
    "    scores = list(scores.sort_values(ascending = False).index)\n",
    "    \n",
    "    known_books = list(train_val.loc[user_id][train_val.loc[user_id, :] > threshold].sort_values(ascending = False).index)\n",
    "   \n",
    "    scores = [i for i in scores if i not in known_books]\n",
    "    \n",
    "    known_books = list(pd.Series(known_books).apply(lambda x: book_dict[x]))\n",
    "    scores = list(pd.Series(scores).apply(lambda x: book_dict[x]))\n",
    "    \n",
    "    print(\"Liked books by user:\")\n",
    "    for i in known_books[:10]:\n",
    "        print(i)\n",
    "        \n",
    "    print(\"\\n Recommended books:\")    \n",
    "    for i in scores[:10]:\n",
    "        print(i)\n",
    "    \n",
    "    \n",
    "#     return (scores)"
   ]
  },
  {
   "cell_type": "code",
   "execution_count": 93,
   "metadata": {},
   "outputs": [
    {
     "name": "stdout",
     "output_type": "stream",
     "text": [
      "Liked books by user:\n",
      "American Gods\n",
      "Harry Potter and the Goblet of Fire (Book 4)\n",
      "Harry Potter and the Sorcerer's Stone (Book 1)\n",
      "American Gods: A Novel\n",
      "The Bonesetter's Daughter\n",
      "Harry Potter and the Chamber of Secrets (Book 2)\n",
      "Harry Potter and the Chamber of Secrets (Book 2)\n",
      "Harry Potter and the Prisoner of Azkaban (Book 3)\n",
      "Harry Potter and the Prisoner of Azkaban (Book 3)\n",
      "The Secret Life of Bees\n",
      "\n",
      " Recommended books:\n",
      "Harry Potter and the Order of the Phoenix (Book 5)\n",
      "Harry Potter and the Sorcerer's Stone (Harry Potter (Paperback))\n",
      "Harry Potter and the Goblet of Fire (Book 4)\n",
      "Interview with the Vampire\n",
      "The Hobbit : The Enchanting Prelude to The Lord of the Rings\n",
      "To Kill a Mockingbird\n",
      "The Bad Beginning (A Series of Unfortunate Events, Book 1)\n",
      "Fahrenheit 451\n",
      "The Catcher in the Rye\n",
      "The Joy Luck Club\n"
     ]
    }
   ],
   "source": [
    "topm_recommendation(254, lfm, train_val, user_dict, book_dict)"
   ]
  },
  {
   "cell_type": "code",
   "execution_count": 80,
   "metadata": {},
   "outputs": [],
   "source": [
    "# Function to give recommended users for specific item\n",
    "\n",
    "def users_as_per_item(train_val, lfm, book_id, n_users_for_book):\n",
    "    \n",
    "    n_users, n_books = train_val.shape\n",
    "    book_ids = train_val.columns\n",
    "    \n",
    "    scores = list(lfm.predict(np.arange(n_users), np.repeat(book_ids.searchsorted(book_id), n_users)))\n",
    "    users = np.argsort(scores)[::-1][:n_users_for_book]\n",
    "#     np.argsort()\n",
    "    \n",
    "    return(users)"
   ]
  },
  {
   "cell_type": "code",
   "execution_count": 81,
   "metadata": {},
   "outputs": [
    {
     "data": {
      "text/plain": [
       "array([  13,  249,  599,  118,  597, 1025, 1589,  238, 1450,  563],\n",
       "      dtype=int64)"
      ]
     },
     "execution_count": 81,
     "metadata": {},
     "output_type": "execute_result"
    }
   ],
   "source": [
    "users_as_per_item(train_val, lfm, '002542730X', 10)"
   ]
  },
  {
   "cell_type": "code",
   "execution_count": 82,
   "metadata": {},
   "outputs": [],
   "source": [
    "from scipy.sparse import csr_matrix\n",
    "\n",
    "x = csr_matrix(lfm.item_embeddings)"
   ]
  },
  {
   "cell_type": "code",
   "execution_count": 83,
   "metadata": {},
   "outputs": [
    {
     "data": {
      "text/plain": [
       "(2129, 100)"
      ]
     },
     "execution_count": 83,
     "metadata": {},
     "output_type": "execute_result"
    }
   ],
   "source": [
    "x.shape"
   ]
  },
  {
   "cell_type": "code",
   "execution_count": 84,
   "metadata": {},
   "outputs": [
    {
     "data": {
      "text/plain": [
       "(2179, 2129)"
      ]
     },
     "execution_count": 84,
     "metadata": {},
     "output_type": "execute_result"
    }
   ],
   "source": [
    "train.shape"
   ]
  },
  {
   "cell_type": "code",
   "execution_count": 85,
   "metadata": {},
   "outputs": [
    {
     "data": {
      "text/html": [
       "<div>\n",
       "<style scoped>\n",
       "    .dataframe tbody tr th:only-of-type {\n",
       "        vertical-align: middle;\n",
       "    }\n",
       "\n",
       "    .dataframe tbody tr th {\n",
       "        vertical-align: top;\n",
       "    }\n",
       "\n",
       "    .dataframe thead th {\n",
       "        text-align: right;\n",
       "    }\n",
       "</style>\n",
       "<table border=\"1\" class=\"dataframe\">\n",
       "  <thead>\n",
       "    <tr style=\"text-align: right;\">\n",
       "      <th>book_id</th>\n",
       "      <th>000649840X</th>\n",
       "      <th>0007110928</th>\n",
       "      <th>0020199600</th>\n",
       "      <th>0020442203</th>\n",
       "      <th>002542730X</th>\n",
       "      <th>0028604199</th>\n",
       "      <th>006000438X</th>\n",
       "      <th>0060008032</th>\n",
       "      <th>0060008776</th>\n",
       "      <th>006001203X</th>\n",
       "      <th>...</th>\n",
       "      <th>3548359698</th>\n",
       "      <th>3596150655</th>\n",
       "      <th>3596259924</th>\n",
       "      <th>3746614007</th>\n",
       "      <th>8408043641</th>\n",
       "      <th>8445071416</th>\n",
       "      <th>8495618605</th>\n",
       "      <th>8806142100</th>\n",
       "      <th>8807813025</th>\n",
       "      <th>8845205118</th>\n",
       "    </tr>\n",
       "    <tr>\n",
       "      <th>book_id</th>\n",
       "      <th></th>\n",
       "      <th></th>\n",
       "      <th></th>\n",
       "      <th></th>\n",
       "      <th></th>\n",
       "      <th></th>\n",
       "      <th></th>\n",
       "      <th></th>\n",
       "      <th></th>\n",
       "      <th></th>\n",
       "      <th></th>\n",
       "      <th></th>\n",
       "      <th></th>\n",
       "      <th></th>\n",
       "      <th></th>\n",
       "      <th></th>\n",
       "      <th></th>\n",
       "      <th></th>\n",
       "      <th></th>\n",
       "      <th></th>\n",
       "      <th></th>\n",
       "    </tr>\n",
       "  </thead>\n",
       "  <tbody>\n",
       "    <tr>\n",
       "      <th>000649840X</th>\n",
       "      <td>1.000000</td>\n",
       "      <td>0.593511</td>\n",
       "      <td>0.066154</td>\n",
       "      <td>0.076756</td>\n",
       "      <td>0.275392</td>\n",
       "      <td>0.052601</td>\n",
       "      <td>0.364859</td>\n",
       "      <td>0.418558</td>\n",
       "      <td>0.289157</td>\n",
       "      <td>-0.356051</td>\n",
       "      <td>...</td>\n",
       "      <td>0.746710</td>\n",
       "      <td>0.524089</td>\n",
       "      <td>0.689240</td>\n",
       "      <td>0.498888</td>\n",
       "      <td>0.756624</td>\n",
       "      <td>0.006594</td>\n",
       "      <td>0.476786</td>\n",
       "      <td>0.781810</td>\n",
       "      <td>0.704103</td>\n",
       "      <td>0.574807</td>\n",
       "    </tr>\n",
       "    <tr>\n",
       "      <th>0007110928</th>\n",
       "      <td>0.593511</td>\n",
       "      <td>1.000000</td>\n",
       "      <td>0.375238</td>\n",
       "      <td>-0.014393</td>\n",
       "      <td>0.308194</td>\n",
       "      <td>0.222107</td>\n",
       "      <td>-0.042923</td>\n",
       "      <td>0.397575</td>\n",
       "      <td>0.360675</td>\n",
       "      <td>-0.256134</td>\n",
       "      <td>...</td>\n",
       "      <td>0.787443</td>\n",
       "      <td>0.498176</td>\n",
       "      <td>0.674356</td>\n",
       "      <td>0.371217</td>\n",
       "      <td>0.750268</td>\n",
       "      <td>0.028366</td>\n",
       "      <td>0.464286</td>\n",
       "      <td>0.702239</td>\n",
       "      <td>0.611614</td>\n",
       "      <td>0.398480</td>\n",
       "    </tr>\n",
       "    <tr>\n",
       "      <th>0020199600</th>\n",
       "      <td>0.066154</td>\n",
       "      <td>0.375238</td>\n",
       "      <td>1.000000</td>\n",
       "      <td>0.203398</td>\n",
       "      <td>-0.162488</td>\n",
       "      <td>0.148787</td>\n",
       "      <td>-0.280882</td>\n",
       "      <td>-0.117550</td>\n",
       "      <td>0.749401</td>\n",
       "      <td>0.493169</td>\n",
       "      <td>...</td>\n",
       "      <td>0.464067</td>\n",
       "      <td>0.628847</td>\n",
       "      <td>0.388834</td>\n",
       "      <td>0.622983</td>\n",
       "      <td>0.366330</td>\n",
       "      <td>0.544572</td>\n",
       "      <td>0.696640</td>\n",
       "      <td>0.370381</td>\n",
       "      <td>0.260661</td>\n",
       "      <td>0.526711</td>\n",
       "    </tr>\n",
       "    <tr>\n",
       "      <th>0020442203</th>\n",
       "      <td>0.076756</td>\n",
       "      <td>-0.014393</td>\n",
       "      <td>0.203398</td>\n",
       "      <td>1.000000</td>\n",
       "      <td>0.149619</td>\n",
       "      <td>0.381687</td>\n",
       "      <td>0.224121</td>\n",
       "      <td>-0.220365</td>\n",
       "      <td>0.328088</td>\n",
       "      <td>0.052731</td>\n",
       "      <td>...</td>\n",
       "      <td>0.051051</td>\n",
       "      <td>0.186047</td>\n",
       "      <td>-0.092060</td>\n",
       "      <td>0.376016</td>\n",
       "      <td>-0.115448</td>\n",
       "      <td>0.628667</td>\n",
       "      <td>0.428663</td>\n",
       "      <td>0.060043</td>\n",
       "      <td>-0.186135</td>\n",
       "      <td>0.305578</td>\n",
       "    </tr>\n",
       "    <tr>\n",
       "      <th>002542730X</th>\n",
       "      <td>0.275392</td>\n",
       "      <td>0.308194</td>\n",
       "      <td>-0.162488</td>\n",
       "      <td>0.149619</td>\n",
       "      <td>1.000000</td>\n",
       "      <td>0.536448</td>\n",
       "      <td>0.275616</td>\n",
       "      <td>0.048259</td>\n",
       "      <td>-0.233502</td>\n",
       "      <td>-0.460782</td>\n",
       "      <td>...</td>\n",
       "      <td>0.059204</td>\n",
       "      <td>-0.214598</td>\n",
       "      <td>-0.069114</td>\n",
       "      <td>-0.242959</td>\n",
       "      <td>0.065792</td>\n",
       "      <td>-0.135647</td>\n",
       "      <td>-0.099361</td>\n",
       "      <td>0.030169</td>\n",
       "      <td>-0.067953</td>\n",
       "      <td>-0.195455</td>\n",
       "    </tr>\n",
       "  </tbody>\n",
       "</table>\n",
       "<p>5 rows × 2129 columns</p>\n",
       "</div>"
      ],
      "text/plain": [
       "book_id     000649840X  0007110928  0020199600  0020442203  002542730X  \\\n",
       "book_id                                                                  \n",
       "000649840X    1.000000    0.593511    0.066154    0.076756    0.275392   \n",
       "0007110928    0.593511    1.000000    0.375238   -0.014393    0.308194   \n",
       "0020199600    0.066154    0.375238    1.000000    0.203398   -0.162488   \n",
       "0020442203    0.076756   -0.014393    0.203398    1.000000    0.149619   \n",
       "002542730X    0.275392    0.308194   -0.162488    0.149619    1.000000   \n",
       "\n",
       "book_id     0028604199  006000438X  0060008032  0060008776  006001203X  ...  \\\n",
       "book_id                                                                 ...   \n",
       "000649840X    0.052601    0.364859    0.418558    0.289157   -0.356051  ...   \n",
       "0007110928    0.222107   -0.042923    0.397575    0.360675   -0.256134  ...   \n",
       "0020199600    0.148787   -0.280882   -0.117550    0.749401    0.493169  ...   \n",
       "0020442203    0.381687    0.224121   -0.220365    0.328088    0.052731  ...   \n",
       "002542730X    0.536448    0.275616    0.048259   -0.233502   -0.460782  ...   \n",
       "\n",
       "book_id     3548359698  3596150655  3596259924  3746614007  8408043641  \\\n",
       "book_id                                                                  \n",
       "000649840X    0.746710    0.524089    0.689240    0.498888    0.756624   \n",
       "0007110928    0.787443    0.498176    0.674356    0.371217    0.750268   \n",
       "0020199600    0.464067    0.628847    0.388834    0.622983    0.366330   \n",
       "0020442203    0.051051    0.186047   -0.092060    0.376016   -0.115448   \n",
       "002542730X    0.059204   -0.214598   -0.069114   -0.242959    0.065792   \n",
       "\n",
       "book_id     8445071416  8495618605  8806142100  8807813025  8845205118  \n",
       "book_id                                                                 \n",
       "000649840X    0.006594    0.476786    0.781810    0.704103    0.574807  \n",
       "0007110928    0.028366    0.464286    0.702239    0.611614    0.398480  \n",
       "0020199600    0.544572    0.696640    0.370381    0.260661    0.526711  \n",
       "0020442203    0.628667    0.428663    0.060043   -0.186135    0.305578  \n",
       "002542730X   -0.135647   -0.099361    0.030169   -0.067953   -0.195455  \n",
       "\n",
       "[5 rows x 2129 columns]"
      ]
     },
     "execution_count": 85,
     "metadata": {},
     "output_type": "execute_result"
    }
   ],
   "source": [
    "from sklearn.metrics.pairwise import cosine_similarity\n",
    "\n",
    "df_item_simil = pd.DataFrame(cosine_similarity(x))\n",
    "df_item_simil.columns = df_item_simil.index = train_val.columns\n",
    "df_item_simil.head()"
   ]
  },
  {
   "cell_type": "code",
   "execution_count": 86,
   "metadata": {},
   "outputs": [],
   "source": [
    "# Function to give bought-together items (similar items) for a specific item\n",
    "# For better results the main dataframe (df4_explicit_20) can further be filtered with the users and books with atleast 100 ratings. \n",
    "# So the prediction will me made based on the users who have bought and rated more books\n",
    "# and the books with more ratings (popular) \n",
    "\n",
    "def bought_together(item_similarity_matrix, item_id, book_dict):\n",
    "    \n",
    "    recommended_3_books = list(item_similarity_matrix.loc[item_id, :].sort_values(ascending = False).index[1:4])\n",
    "    \n",
    "    print('bought together with :', book_dict[item_id])\n",
    "    for i in recommended_3_books:\n",
    "        print(book_dict[i])\n",
    "#     return(recommended_3_books)"
   ]
  },
  {
   "cell_type": "code",
   "execution_count": 87,
   "metadata": {},
   "outputs": [
    {
     "name": "stdout",
     "output_type": "stream",
     "text": [
      "bought together with : Harry Potter and the Goblet of Fire (Book 4)\n",
      "Harry Potter and the Chamber of Secrets (Book 2)\n",
      "Harry Potter and the Prisoner of Azkaban (Book 3)\n",
      "Harry Potter and the Sorcerer's Stone (Book 1)\n"
     ]
    }
   ],
   "source": [
    "bought_together(df_item_simil, '0439139597', book_dict)"
   ]
  },
  {
   "cell_type": "code",
   "execution_count": 89,
   "metadata": {},
   "outputs": [
    {
     "data": {
      "text/plain": [
       "'0439139597'"
      ]
     },
     "execution_count": 89,
     "metadata": {},
     "output_type": "execute_result"
    }
   ],
   "source": [
    "list(book_dict.keys())[list(book_dict.values()).index('Harry Potter and the Goblet of Fire (Book 4)')]"
   ]
  },
  {
   "cell_type": "code",
   "execution_count": null,
   "metadata": {},
   "outputs": [],
   "source": []
  }
 ],
 "metadata": {
  "kernelspec": {
   "display_name": "Python 3 (ipykernel)",
   "language": "python",
   "name": "python3"
  },
  "language_info": {
   "codemirror_mode": {
    "name": "ipython",
    "version": 3
   },
   "file_extension": ".py",
   "mimetype": "text/x-python",
   "name": "python",
   "nbconvert_exporter": "python",
   "pygments_lexer": "ipython3",
   "version": "3.7.13"
  }
 },
 "nbformat": 4,
 "nbformat_minor": 4
}
